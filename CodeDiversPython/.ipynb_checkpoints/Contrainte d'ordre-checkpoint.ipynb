{
 "cells": [
  {
   "cell_type": "markdown",
   "metadata": {},
   "source": [
    "# Q. Est-ce que la contrainte d'ordre est une vraie contrainte ?"
   ]
  },
  {
   "cell_type": "markdown",
   "metadata": {},
   "source": [
    "## Construction des stacks"
   ]
  },
  {
   "cell_type": "code",
   "execution_count": 87,
   "metadata": {},
   "outputs": [],
   "source": [
    "from random import randint\n",
    "m = 10 # nombre de stacks\n",
    "n = 30 # nombre d'items"
   ]
  },
  {
   "cell_type": "code",
   "execution_count": 88,
   "metadata": {},
   "outputs": [],
   "source": [
    "stacks = [[] for k in range(m)]\n",
    "for k in range(n):\n",
    "    stacks[randint(0, m - 1)].append(k)"
   ]
  },
  {
   "cell_type": "markdown",
   "metadata": {},
   "source": [
    "## Construction d'un ordre total admissible"
   ]
  },
  {
   "cell_type": "code",
   "execution_count": 89,
   "metadata": {},
   "outputs": [],
   "source": [
    "import copy\n",
    "stacks_copy = copy.deepcopy(stacks)"
   ]
  },
  {
   "cell_type": "code",
   "execution_count": 90,
   "metadata": {},
   "outputs": [],
   "source": [
    "ordre = []\n",
    "for k in range(n):\n",
    "    s = randint(0, m - 1)\n",
    "    while len(stacks[s]) == 0:\n",
    "        s = randint(0, m - 1)\n",
    "    ordre.append(stacks[s].pop())\n",
    "ordre.reverse()\n",
    "stacks = copy.deepcopy(stacks_copy)"
   ]
  },
  {
   "cell_type": "markdown",
   "metadata": {},
   "source": [
    "## Vérification de l'admissibilité d'un ordre"
   ]
  },
  {
   "cell_type": "code",
   "execution_count": 86,
   "metadata": {},
   "outputs": [
    {
     "name": "stdout",
     "output_type": "stream",
     "text": [
      "25\n"
     ]
    }
   ],
   "source": [
    "ordre_copy = copy.deepcopy(ordre)\n",
    "stacks_copy = copy.deepcopy(stacks)\n",
    "ok = True\n",
    "\n",
    "while len(ordre) > 0 and ok:\n",
    "    item = ordre.pop()\n",
    "    s = 0\n",
    "    print(item)\n",
    "    while s < m :\n",
    "        if len(stacks[s]) > 0 and stacks[s][-1] == item:\n",
    "            stacks[s].pop()\n",
    "            break\n",
    "        s += 1\n",
    "    ok = ok and s < m\n",
    "    \n",
    "\n",
    "#ordre =  copy.deepcopy(ordre_copy)\n",
    "#stacks = copy.deepcopy(stacks_copy)\n"
   ]
  },
  {
   "cell_type": "code",
   "execution_count": 91,
   "metadata": {},
   "outputs": [],
   "source": [
    "ordre =  copy.deepcopy(ordre_copy)\n",
    "stacks = copy.deepcopy(stacks_copy)"
   ]
  },
  {
   "cell_type": "code",
   "execution_count": 92,
   "metadata": {},
   "outputs": [
    {
     "data": {
      "text/plain": [
       "[[10, 11, 12, 13, 18, 21, 23],\n",
       " [24],\n",
       " [9, 19],\n",
       " [5, 15, 28],\n",
       " [27],\n",
       " [17],\n",
       " [0, 2, 4, 26],\n",
       " [1, 8, 25, 29],\n",
       " [6, 7, 16, 22],\n",
       " [3, 14, 20]]"
      ]
     },
     "execution_count": 92,
     "metadata": {},
     "output_type": "execute_result"
    }
   ],
   "source": [
    "stacks"
   ]
  },
  {
   "cell_type": "code",
   "execution_count": 77,
   "metadata": {},
   "outputs": [
    {
     "data": {
      "text/plain": [
       "[8,\n",
       " 11,\n",
       " 4,\n",
       " 9,\n",
       " 16,\n",
       " 0,\n",
       " 15,\n",
       " 29,\n",
       " 5,\n",
       " 2,\n",
       " 6,\n",
       " 12,\n",
       " 10,\n",
       " 7,\n",
       " 18,\n",
       " 22,\n",
       " 20,\n",
       " 13,\n",
       " 14,\n",
       " 3,\n",
       " 19,\n",
       " 25,\n",
       " 17,\n",
       " 21,\n",
       " 24,\n",
       " 1,\n",
       " 23,\n",
       " 27,\n",
       " 26,\n",
       " 28]"
      ]
     },
     "execution_count": 77,
     "metadata": {},
     "output_type": "execute_result"
    }
   ],
   "source": [
    "ordre"
   ]
  },
  {
   "cell_type": "code",
   "execution_count": null,
   "metadata": {},
   "outputs": [],
   "source": []
  }
 ],
 "metadata": {
  "kernelspec": {
   "display_name": "Python 3",
   "language": "python",
   "name": "python3"
  },
  "language_info": {
   "codemirror_mode": {
    "name": "ipython",
    "version": 3
   },
   "file_extension": ".py",
   "mimetype": "text/x-python",
   "name": "python",
   "nbconvert_exporter": "python",
   "pygments_lexer": "ipython3",
   "version": "3.5.2"
  }
 },
 "nbformat": 4,
 "nbformat_minor": 2
}
