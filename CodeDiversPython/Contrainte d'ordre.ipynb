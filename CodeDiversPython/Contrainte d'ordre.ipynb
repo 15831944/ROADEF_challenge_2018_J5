{
 "cells": [
  {
   "cell_type": "markdown",
   "metadata": {},
   "source": [
    "# Q. Est-ce que la contrainte d'ordre est une vraie contrainte ?"
   ]
  },
  {
   "cell_type": "markdown",
   "metadata": {},
   "source": [
    "## Construction des stacks"
   ]
  },
  {
   "cell_type": "code",
   "execution_count": 1,
   "metadata": {},
   "outputs": [],
   "source": [
    "from random import randint\n",
    "m = 10 # nombre de stacks\n",
    "n = 300 # nombre d'items"
   ]
  },
  {
   "cell_type": "code",
   "execution_count": 2,
   "metadata": {},
   "outputs": [],
   "source": [
    "stacks = [[] for k in range(m)]\n",
    "for k in range(n):\n",
    "    stacks[randint(0, m - 1)].append(k)"
   ]
  },
  {
   "cell_type": "markdown",
   "metadata": {},
   "source": [
    "## Construction d'un ordre total admissible"
   ]
  },
  {
   "cell_type": "code",
   "execution_count": 3,
   "metadata": {},
   "outputs": [],
   "source": [
    "import copy\n",
    "stacks_copy = copy.deepcopy(stacks)"
   ]
  },
  {
   "cell_type": "code",
   "execution_count": 4,
   "metadata": {},
   "outputs": [],
   "source": [
    "ordre = []\n",
    "for k in range(n):\n",
    "    s = randint(0, m - 1)\n",
    "    while len(stacks[s]) == 0:\n",
    "        s = randint(0, m - 1)\n",
    "    ordre.append(stacks[s].pop())\n",
    "ordre.reverse()\n",
    "stacks = copy.deepcopy(stacks_copy)"
   ]
  },
  {
   "cell_type": "markdown",
   "metadata": {},
   "source": [
    "## Vérification de l'admissibilité d'un ordre"
   ]
  },
  {
   "cell_type": "code",
   "execution_count": 5,
   "metadata": {
    "scrolled": true
   },
   "outputs": [],
   "source": [
    "def ordre_admissible(ordre, stacks):\n",
    "\n",
    "    ordre_copy = copy.deepcopy(ordre)\n",
    "    stacks_copy = copy.deepcopy(stacks)\n",
    "    ok = True\n",
    "\n",
    "    while len(ordre_copy) > 0 and ok:\n",
    "        item = ordre_copy.pop()\n",
    "        s = 0\n",
    "        while s < m :\n",
    "            if len(stacks_copy[s]) > 0 and stacks_copy[s][-1] == item:\n",
    "                stacks_copy[s].pop()\n",
    "                break\n",
    "            s += 1\n",
    "        ok = ok and s < m\n",
    "\n",
    "    return ok\n",
    "    "
   ]
  },
  {
   "cell_type": "markdown",
   "metadata": {},
   "source": [
    "## Test d'admissibilité d'une transposition"
   ]
  },
  {
   "cell_type": "code",
   "execution_count": 6,
   "metadata": {},
   "outputs": [
    {
     "name": "stdout",
     "output_type": "stream",
     "text": [
      "300\n"
     ]
    }
   ],
   "source": [
    "adm = 0\n",
    "for k in range(10000):\n",
    "    a = randint(0, n - 1)\n",
    "    b = randint(0, n - 1)\n",
    "    ordre_mod = ordre.copy()\n",
    "    ordre_mod[a], ordre_mod[b] = ordre_mod[b], ordre_mod[a]\n",
    "    adm += ordre_admissible(ordre_mod, stacks)\n",
    "\n",
    "print(adm)"
   ]
  },
  {
   "cell_type": "markdown",
   "metadata": {},
   "source": [
    "* Pour $10^6$ transpositions sur un ordre admissible (choisi aléatoirement), seulement $22 000$ sont faisables (avec $m = 10$ et $n = 30$)\n",
    "* 275 ok pour $10 000$ transpositions avec $m$ = 10 et $n = 300$."
   ]
  },
  {
   "cell_type": "markdown",
   "metadata": {},
   "source": [
    "### On tire au sort deux fenêtres"
   ]
  },
  {
   "cell_type": "code",
   "execution_count": 7,
   "metadata": {},
   "outputs": [],
   "source": [
    "def permutalea(fa, fb):\n",
    "    fa_c = fa.copy()\n",
    "    fb_c = fb.copy()\n",
    "    nfa = []\n",
    "    nfb = []\n",
    "    for k in range(l):\n",
    "        i = None\n",
    "        if randint(0, 1):\n",
    "            if len(fa_c) > 0:\n",
    "                x = randint(0, len(fa_c) - 1)\n",
    "                nfa.append(fa_c[x])\n",
    "                del fa_c[x]\n",
    "                \n",
    "            else:\n",
    "                x = randint(0, len(fb_c) - 1)\n",
    "                nfa.append(fb_c[x])\n",
    "                del fb_c[x]\n",
    "        else:\n",
    "            if len(fb_c) > 0:\n",
    "                x = randint(0, len(fb_c) - 1)\n",
    "                nfa.append(fb_c[x])\n",
    "                del fb_c[x]\n",
    "            else:\n",
    "                x = randint(0, len(fa_c) - 1)\n",
    "                nfa.append(fa_c[x])\n",
    "                del fa_c[x]\n",
    "                \n",
    "    for k in range(l):\n",
    "        i = None\n",
    "        if randint(0, 1):\n",
    "            if len(fa_c) > 0:\n",
    "                x = randint(0, len(fa_c) - 1)\n",
    "                nfb.append(fa_c[x])\n",
    "                del fa_c[x]\n",
    "                \n",
    "            else:\n",
    "                x = randint(0, len(fb_c) - 1)\n",
    "                nfb.append(fb_c[x])\n",
    "                del fb_c[x]\n",
    "        else:\n",
    "            if len(fb_c) > 0:\n",
    "                x = randint(0, len(fb_c) - 1)\n",
    "                nfb.append(fb_c[x])\n",
    "                del fb_c[x]\n",
    "            else:\n",
    "                x = randint(0, len(fa_c) - 1)\n",
    "                nfb.append(fa_c[x])\n",
    "                del fa_c[x]\n",
    "                \n",
    "    return (nfa, nfb)"
   ]
  },
  {
   "cell_type": "code",
   "execution_count": 8,
   "metadata": {},
   "outputs": [],
   "source": [
    "l = 5 # largeur de la fenetre\n"
   ]
  },
  {
   "cell_type": "code",
   "execution_count": 9,
   "metadata": {},
   "outputs": [],
   "source": [
    "a = randint(0, n - 1 - 2*l)\n",
    "b = randint(a + l, n - 1 - l)\n",
    "fa = ordre[a: a + l]\n",
    "fb = ordre[b: b + l]"
   ]
  },
  {
   "cell_type": "code",
   "execution_count": null,
   "metadata": {},
   "outputs": [],
   "source": []
  },
  {
   "cell_type": "code",
   "execution_count": 10,
   "metadata": {},
   "outputs": [
    {
     "name": "stdout",
     "output_type": "stream",
     "text": [
      "11\n"
     ]
    }
   ],
   "source": [
    "adm = 0\n",
    "for k in range(1000):\n",
    "    (nfa, nfb) = permutalea(fa, fb)\n",
    "    ordre_copy = ordre.copy()\n",
    "    ordre_copy[a: a + l] = nfa\n",
    "    ordre_copy[b: b + l] = nfb\n",
    "    (nfa, nfb) = permutalea(fa, fb)\n",
    "    adm += ordre_admissible(ordre_copy, stacks)\n",
    "print(adm)"
   ]
  },
  {
   "cell_type": "markdown",
   "metadata": {},
   "source": [
    "Pour 100000 échanges aléatoires sur deux fenêtres de largeur 5, seuls 64 sont admissibles...\n",
    "\n",
    "Autrement dit c'est pas top du tout :p"
   ]
  },
  {
   "cell_type": "code",
   "execution_count": 12,
   "metadata": {},
   "outputs": [
    {
     "data": {
      "text/plain": [
       "0.20833333333333334"
      ]
     },
     "execution_count": 12,
     "metadata": {},
     "output_type": "execute_result"
    }
   ],
   "source": [
    "150./720"
   ]
  },
  {
   "cell_type": "code",
   "execution_count": null,
   "metadata": {},
   "outputs": [],
   "source": []
  }
 ],
 "metadata": {
  "kernelspec": {
   "display_name": "Python 3",
   "language": "python",
   "name": "python3"
  },
  "language_info": {
   "codemirror_mode": {
    "name": "ipython",
    "version": 3
   },
   "file_extension": ".py",
   "mimetype": "text/x-python",
   "name": "python",
   "nbconvert_exporter": "python",
   "pygments_lexer": "ipython3",
   "version": "3.5.2"
  }
 },
 "nbformat": 4,
 "nbformat_minor": 2
}
