{
 "cells": [
  {
   "cell_type": "markdown",
   "metadata": {
    "slideshow": {
     "slide_type": "slide"
    }
   },
   "source": [
    "# Élaboration de l'algorithme exact de résolution \n",
    "En l'état (vendredi 18/05), ce document présente :\n",
    "* **Fonctions générales** : des fonctions pour **charger une instance** et obtenir des objets facile d'accès. Des fonctions (codées en `Cython`) permettent d'y accéder facilement\n",
    "* **Arbres** : des fonctions relatives à un arbre : pour **générer** un tel arbre vérifiant toutes les contraintes (pour une suite d'objets placés donnée), les **afficher** et les **sauvegarder**\n",
    "* **Emplacements** : des fonctions pour obtenir tous les emplacements possibles pour un item donné : ces emplacement vérifient la **condition de l'étoile verte**, évitent les **défauts** et permettent à la pièce de **tenir** dans le node\n",
    "* **Séquence −> arbre admissible** : une première fonction mise en place afin de tester les fonctions précédentes : celle-ci place une séquence (suite d'items admissible).\n",
    "* Un premier algorithme glouton basé sur l'optimisation locale d'un *score*."
   ]
  },
  {
   "cell_type": "markdown",
   "metadata": {
    "slideshow": {
     "slide_type": "subslide"
    }
   },
   "source": [
    "*Remarque :* Ce document utilise `Cython` afin de compiler en C les (courtes) fonctions appelées régulièrement, dans un objectif d'accélerer grandement le programme (environ un facteur $×4$ pour des fonctions élémentaires : un gain plus important pour les fonctions très complexes).\n",
    "\n",
    "Pour l'installation et l'utilisation, on se réfèrera à la documentation : http://docs.cython.org/en/latest/"
   ]
  },
  {
   "cell_type": "code",
   "execution_count": 85,
   "metadata": {
    "slideshow": {
     "slide_type": "-"
    }
   },
   "outputs": [
    {
     "name": "stdout",
     "output_type": "stream",
     "text": [
      "The Cython extension is already loaded. To reload it, use:\n",
      "  %reload_ext Cython\n"
     ]
    }
   ],
   "source": [
    "%load_ext Cython"
   ]
  },
  {
   "cell_type": "code",
   "execution_count": 86,
   "metadata": {
    "slideshow": {
     "slide_type": "skip"
    }
   },
   "outputs": [],
   "source": [
    "import matplotlib.pyplot as plt\n",
    "from functools import reduce"
   ]
  },
  {
   "cell_type": "markdown",
   "metadata": {
    "slideshow": {
     "slide_type": "slide"
    }
   },
   "source": [
    "# Fonctions générales\n",
    "Fonctions génériques sur les instances, notamment :\n",
    "* Chargement du dataset sous forme de dataframe avec `pandas`\n",
    "* Conversion du fichier de `batch` sous forme d'une matrice\n",
    "* Chargement des paramètres sous forme de variables globales\n",
    "* Conversion du `batch` sous forme d'une liste d'objets `Stack` : objets intelligents pour réimplémenter une pile sans supprimer les objets *retirés de la pile*.\n",
    "* Chargement des défauts sous la forme d'un tableau où `list_def[bin_id]` est un dictionnaire contenant la liste des défauts triées selon `x` ou selon `y`)."
   ]
  },
  {
   "cell_type": "markdown",
   "metadata": {
    "slideshow": {
     "slide_type": "subslide"
    }
   },
   "source": [
    "#### Paramètres\n",
    "(on pourrait lire les paramètres dans le fichier `.csv`)"
   ]
  },
  {
   "cell_type": "code",
   "execution_count": 87,
   "metadata": {
    "slideshow": {
     "slide_type": "-"
    }
   },
   "outputs": [],
   "source": [
    "nPlates = 100\n",
    "widthPlates = 6000\n",
    "heightPlates = 3210\n",
    "minXX = 100\n",
    "maxXX = 3500\n",
    "minYY = 100\n",
    "minWaste = 20"
   ]
  },
  {
   "cell_type": "markdown",
   "metadata": {
    "slideshow": {
     "slide_type": "subslide"
    }
   },
   "source": [
    "**Chargement du dataset**"
   ]
  },
  {
   "cell_type": "code",
   "execution_count": 88,
   "metadata": {
    "slideshow": {
     "slide_type": "-"
    }
   },
   "outputs": [],
   "source": [
    "import pandas as pd\n",
    "\n",
    "path = \"../checker/instances_checker/\"\n",
    "def load_instance(name = \"A19\"):\n",
    "    instance = path + name\n",
    "    defects = instance + \"_defects.csv\"\n",
    "    batch = instance + \"_batch.csv\"\n",
    "    \n",
    "    defects = pd.read_csv(defects, sep = \";\")\n",
    "    batch = pd.read_csv(batch, sep = \";\")\n",
    "    \n",
    "    return (defects, batch)"
   ]
  },
  {
   "cell_type": "markdown",
   "metadata": {
    "slideshow": {
     "slide_type": "subslide"
    }
   },
   "source": [
    "#### Objet stack\n",
    "\n",
    "On créé un objet stack afin de ne pas supprimer des éléments des éléments *retirés* d'un stack.\n",
    "\n",
    "L'idée est également d'avoir une structure pertinente pour pouvoir gérer des *fenêtres glissantes* (terme dangereux)\n",
    "**(non implémenté pour le moment)**\n"
   ]
  },
  {
   "cell_type": "code",
   "execution_count": 89,
   "metadata": {
    "slideshow": {
     "slide_type": "fragment"
    }
   },
   "outputs": [],
   "source": [
    "class Stack:    \n",
    "    def __init__(self, L):\n",
    "        self.list = L\n",
    "        self.n = len(L)\n",
    "        self.begin = 0 # premier élément\n",
    "        self.end = self.n  # juste après le dernier\n",
    "        \n",
    "    def pop(self):\n",
    "        \"\"\"\n",
    "            Renvoie l'élément en tête et avance l'item\n",
    "        \"\"\"\n",
    "        if not self.is_empty():\n",
    "            self.begin += 1\n",
    "            return self.list[self.begin - 1]\n",
    "        \n",
    "    def is_empty(self):   \n",
    "        return self.end - self.begin == 0\n",
    "    \n",
    "    def push(self):\n",
    "        \"\"\"\n",
    "            Ajoute artificiellement l'élément en tête \n",
    "            (décale juste le pointeur begin)\n",
    "        \"\"\"\n",
    "        if self.begin > 0:\n",
    "            self.begin -= 1\n",
    "        \n",
    "    def reset(self, begin = 0, end = -1):\n",
    "        self.begin = begin\n",
    "        \n",
    "        if end == -1:\n",
    "            self.end = self.n\n",
    "        else:\n",
    "            self.end = end\n",
    "            \n",
    "    def top(self):\n",
    "        if not self.is_empty():\n",
    "            return self.list[self.begin]\n",
    "        else:\n",
    "            return -1"
   ]
  },
  {
   "cell_type": "markdown",
   "metadata": {
    "slideshow": {
     "slide_type": "subslide"
    }
   },
   "source": [
    "Quelques fonctions viennent en complément de cet objet : afin de construire des séquences aléatoires."
   ]
  },
  {
   "cell_type": "code",
   "execution_count": 90,
   "metadata": {
    "slideshow": {
     "slide_type": "-"
    }
   },
   "outputs": [],
   "source": [
    "from random import randint\n",
    "\n",
    "def random_seq(stacks):\n",
    "    seq = []\n",
    "    \n",
    "    for k in range(len(stacks)):\n",
    "        stacks[k].reset()\n",
    "    n = len(stacks)\n",
    "    k = 0\n",
    "    while k < sum([s.n for s in stacks]):\n",
    "        p = randint(0, n - 1)\n",
    "        if not stacks[p].is_empty():\n",
    "            k += 1\n",
    "            seq.append(stacks[p].pop())\n",
    "            \n",
    "    for k in range(n):\n",
    "        stacks[k].reset()\n",
    "    return seq"
   ]
  },
  {
   "cell_type": "markdown",
   "metadata": {
    "slideshow": {
     "slide_type": "subslide"
    }
   },
   "source": [
    "Fonction pour obtenir l'identifiant d'un stack non vide, étant donné la liste des stacks non-vides."
   ]
  },
  {
   "cell_type": "code",
   "execution_count": 91,
   "metadata": {
    "slideshow": {
     "slide_type": "-"
    }
   },
   "outputs": [],
   "source": [
    "def random_stack(stacks_allowed):\n",
    "    \"\"\"\n",
    "        * stacks est une liste de Stack\n",
    "        * stacks_allowed est une liste des id stacks non vide [0, 2] si seulement les stacks 0 et 2 sont \n",
    "            non-vide.\n",
    "    \"\"\"\n",
    "    n = len(stacks_allowed)\n",
    "    if len(stacks_allowed) == 0:\n",
    "        return -1    \n",
    "    return stacks_allowed(randint(0, n - 1))\n",
    "    "
   ]
  },
  {
   "cell_type": "markdown",
   "metadata": {
    "slideshow": {
     "slide_type": "subslide"
    }
   },
   "source": [
    "#### Conversion batch −> Stack"
   ]
  },
  {
   "cell_type": "code",
   "execution_count": 92,
   "metadata": {
    "slideshow": {
     "slide_type": "-"
    }
   },
   "outputs": [],
   "source": [
    "def convert_batch_into_list(batch):\n",
    "    \"\"\"\n",
    "        Renvoie la liste list_stacks tq list_stacks[k] \n",
    "        est une liste d'indices dans le bon ordreê\n",
    "        (TODO = meilleure implémentation d'une pile \n",
    "        pour 'revenir en arrière')\n",
    "    \"\"\"\n",
    "    nStack = max(batch.STACK)\n",
    "    list_stacks = []\n",
    "    \n",
    "    for k in range(nStack + 1):\n",
    "        list_stacks.append(\n",
    "            list(batch.loc[batch[\"STACK\"] == k]\n",
    "                 .sort_values(\"SEQUENCE\").ITEM_ID))\n",
    "        \n",
    "    return list_stacks\n",
    "\n",
    "def convert_batch_into_stacks(batch):\n",
    "    stacks_list = convert_batch_into_list(batch)\n",
    "    return [Stack(s) for s in stacks_list] \n",
    "\n"
   ]
  },
  {
   "cell_type": "markdown",
   "metadata": {
    "slideshow": {
     "slide_type": "subslide"
    }
   },
   "source": [
    "#### Fonctions d'accès aux données\n",
    "Plusieurs fonctions pour :\n",
    "* Obtenir le stack d'un item (suppose `batch_mat` variable globale) \n",
    "* La largeur, la hauteur ou les deux pour un item et une orientation : ces fonctions prennent en paramètre `batch_mat` car codées en `Cython` afin de gagner en temps de calcul."
   ]
  },
  {
   "cell_type": "code",
   "execution_count": 93,
   "metadata": {
    "slideshow": {
     "slide_type": "-"
    }
   },
   "outputs": [],
   "source": [
    "def get_stack(item):\n",
    "    return batch_mat[item, 3]"
   ]
  },
  {
   "cell_type": "code",
   "execution_count": 94,
   "metadata": {
    "slideshow": {
     "slide_type": "subslide"
    }
   },
   "outputs": [],
   "source": [
    "%%cython\n",
    "import numpy as np\n",
    "cimport numpy as np\n",
    "\n",
    "def width_height_mat(int item, int rotated, batch_mat):\n",
    "    \"\"\"\n",
    "        Renvoie largeur et hauteur avec accès en C donc plus rapide\n",
    "    \"\"\"\n",
    "    return (width_item(item, rotated, batch_mat), \n",
    "            height_item(item, rotated, batch_mat))\n",
    "\n",
    "cpdef int width_item(int item, int rotated, np.ndarray batch_mat):\n",
    "    if rotated:\n",
    "        return batch_mat[item, 1]\n",
    "    else:\n",
    "        return batch_mat[item, 2]\n",
    "    \n",
    "cpdef int height_item(int item, int rotated, np.ndarray batch_mat):\n",
    "    if rotated:\n",
    "        return batch_mat[item, 2]\n",
    "    else:\n",
    "        return batch_mat[item, 1]"
   ]
  },
  {
   "cell_type": "markdown",
   "metadata": {
    "slideshow": {
     "slide_type": "-"
    }
   },
   "source": [
    "On remarque que le temps de calcul est très correct, de l'orde de $270$ns."
   ]
  },
  {
   "cell_type": "markdown",
   "metadata": {
    "slideshow": {
     "slide_type": "subslide"
    }
   },
   "source": [
    "#### Chargement des défauts"
   ]
  },
  {
   "cell_type": "code",
   "execution_count": 95,
   "metadata": {
    "slideshow": {
     "slide_type": "-"
    }
   },
   "outputs": [],
   "source": [
    "def convert_defects_into_list(defects):\n",
    "    \"\"\"\n",
    "        Renvoie la liste list_stacks tq list_stacks[k] \n",
    "        est une liste d'indices dans le bon ordre\n",
    "        (TODO = meilleure implémentation d'une pile \n",
    "        pour 'revenir en arrière')\n",
    "    \"\"\"\n",
    "    nDef = max(defects.PLATE_ID)\n",
    "    list_def = []\n",
    "    \n",
    "    for k in range(nDef + 1):\n",
    "        list_def.append(\n",
    "            {\"x\":defects.loc[defects[\"PLATE_ID\"] == k].sort_values(\"X\").as_matrix(),\n",
    "            \"y\":defects.loc[defects[\"PLATE_ID\"] == k].sort_values(\"Y\").as_matrix()\n",
    "            })\n",
    "        \n",
    "    return list_def\n",
    "\n"
   ]
  },
  {
   "cell_type": "code",
   "execution_count": 96,
   "metadata": {
    "slideshow": {
     "slide_type": "subslide"
    }
   },
   "outputs": [],
   "source": [
    "def load_complete_instance(name):\n",
    "    (defects, batch) = load_instance(name)\n",
    "    batch_mat = batch.as_matrix()\n",
    "    stacks = convert_batch_into_stacks(batch)\n",
    "    list_def = convert_defects_into_list(defects)\n",
    "    return (defects, batch, batch_mat, stacks, list_def)\n",
    "(defects, batch, batch_mat, stacks, list_def) = load_complete_instance(\"A11\")"
   ]
  },
  {
   "cell_type": "markdown",
   "metadata": {
    "slideshow": {
     "slide_type": "slide"
    }
   },
   "source": [
    "# Arbres"
   ]
  },
  {
   "cell_type": "markdown",
   "metadata": {
    "slideshow": {
     "slide_type": "-"
    }
   },
   "source": [
    "Un arbre est une *suite* de listes (car modifiables) : `[x, y, largeur, hauteur, profondeur, [liste d'enfants], type]`\n",
    "\n",
    "```python\n",
    "\n",
    "tree = [0, 0, widthPlates, heightPlates, -2, [\n",
    "    [0, 0, w, heightPlates, -2,[\n",
    "        [0, 0, w, h, 1, []],\n",
    "        [0, h, w, heightPlates - h, -3,[]]\n",
    "    ],\n",
    "    [w, 0, widthPlates - w, heightPlates, -2, []]]\n",
    "]]\n",
    "```\n",
    "\n",
    "Le type des nœuds est le suivant : **il n'est pas BIEN géré pour le moment**\n",
    "* $>0$ : un item \n",
    "* $-1$ : un déchet\n",
    "* $-2$ : un nœud\n",
    "* $-3$ : zone résiduelle\n",
    "\n",
    "*Remarque* : Il serait peut-être plus intéressant de créer un tuple ? Les deux seules modifications sont :\n",
    "1. La liste des enfants\n",
    "2. Le type (car déterminé à la toute fin)"
   ]
  },
  {
   "cell_type": "markdown",
   "metadata": {
    "slideshow": {
     "slide_type": "subslide"
    }
   },
   "source": [
    "### Création de l'arbre à partir d'un cutting pattern"
   ]
  },
  {
   "cell_type": "markdown",
   "metadata": {
    "slideshow": {
     "slide_type": "-"
    }
   },
   "source": [
    "Algorithme plutôt simple, il construit un **arbre prioritaire** dans le sens où chaque coupe est faite dès que possible.\n",
    "\n",
    "Une coupe est considérée comme valide si elle vérifie plusieurs conditions :\n",
    "* **Coupes guillotines** : la coupe ne traverse **aucune pièce**, ni **aucun défaut**\n",
    "* **Ordre admissiple** : la coupe ne sépare pas des séquences de pièces (1, 2, 3, 4, 5) ne peut être découpée en (1, 2, 4) et (3, 5). \n",
    ">*Remarque* : Cette contrainte porte sur la séquence donnée en paramètre, mais une autre séquence pourrait être être admissible.\n",
    "* **1-cut** : \n",
    " * la **largeur minimale** entre deux 1-coupe consécutives doit être de `minXX` (= 100), sauf pour les déchets\n",
    " * la **largeur maximale** entre deux 1-coup consécutes doit être de `maxXX` (= 3500), sauf pour les déchets (ou la zone résiduelle) \n",
    "* **2-cut** : la hauteur minimale entre deux 2-coupes est de `minYY` (= 100), sauf pour les déchets\n",
    "* Les zones de déchets sont de dimensions au minimum $20 \\times 20$\n",
    "\n",
    "**Attention**, la coupe guillotine sur un défaut ainsi que la condition $20\\times20$ ne sont pas encore pris en compte.\n",
    "\n",
    "La fonction ci-dessous renvoie une exception s'il est impossible de construire un arbre."
   ]
  },
  {
   "cell_type": "code",
   "execution_count": 97,
   "metadata": {
    "slideshow": {
     "slide_type": "subslide"
    }
   },
   "outputs": [],
   "source": [
    "# -2 branch, -1 waste, -3 residual\n",
    "node = [0, 0, widthPlates, heightPlates, 0, [], -2]\n",
    "items = [(0, 0, 0, True), (10, 800, 1000, False), (2, 1500, 1000, False), (3, 2000, 1000, True)]\n",
    "def gen_tree(node, items):\n",
    "        \n",
    "    [XX, YY, WW, HH, depth, sons, _] = node\n",
    "    \n",
    "    if WW < 20 or HH < 20:\n",
    "        raise Exception(\"Waste too small\")\n",
    "        \n",
    "    if len(items) == 0:\n",
    "        node[6] = -1\n",
    "        return node\n",
    "    \n",
    "            \n",
    "    n = len(items)\n",
    "    \n",
    "    if n == 1 and \\\n",
    "        items[0][1] == XX and items [0][2] == YY and\\\n",
    "        width_item(items[0][0], items[0][3], batch_mat) == WW and\\\n",
    "        height_item(items[0][0], items[0][3], batch_mat) == HH:\n",
    "            node[6] = items[0][0]\n",
    "            #print(node[6])\n",
    "            return node\n",
    "        \n",
    "    if depth > 3:\n",
    "        #print(node)\n",
    "        raise  Exception(\"Tree too depth\")\n",
    "\n",
    "    if depth % 2 == 0: # découpe verticale\n",
    "        # + 0.1 pour faire en sorte que la pièce commence juste après la découpe\n",
    "        L = [(item[1] + .1, -1, -1) for item in items] +\\\n",
    "            [(items[k][1] + width_item(items[k][0], items[k][3], batch_mat), k) for k in range(n)]  \n",
    "        L.sort()\n",
    "        #print(L)\n",
    "        cuts = []\n",
    "        opened = 0\n",
    "        max_item = -1\n",
    "        n_items = 0\n",
    "        #print(L)\n",
    "        for x in L:\n",
    "            if opened == 0 and max_item + 1 == n_items:\n",
    "                    cuts.append((int(x[0]), n_items))        \n",
    "                    \n",
    "            if x[1] == -1:\n",
    "                opened += -1\n",
    "            else:\n",
    "                opened += 1\n",
    "                max_item = max(max_item, x[1])\n",
    "                n_items += 1\n",
    "                if opened == 0 and max_item + 1 == n_items:\n",
    "                    cuts.append((int(x[0]), n_items))   \n",
    "                    \n",
    "        #print(cuts)\n",
    "        xprev = XX\n",
    "        niprev = 0\n",
    "        if depth == 0:\n",
    "            for (x, ni) in cuts:\n",
    "                if ni > 0 and (0 < x - xprev < 100 or x - xprev > 3500):\n",
    "                    #print(node)\n",
    "                    #print(x, ni)\n",
    "                    raise Exception(\"1-cut constrain violated\")\n",
    "                \n",
    "                xprev = x\n",
    "                niprev = ni\n",
    "                \n",
    "        xprev = XX\n",
    "        niprev = 0\n",
    "        for (x, ni) in cuts:\n",
    "            try:\n",
    "                #print(x)\n",
    "                #print(items[niprev:ni])\n",
    "                #print(niprev, ni)\n",
    "                if x != xprev:\n",
    "                    node[5].append(gen_tree([xprev, YY, x - xprev, HH, depth + 1, [], -2], items[niprev:ni]))\n",
    "                xprev = x\n",
    "                niprev = ni\n",
    "                \n",
    "            except Exception as error:\n",
    "                raise error\n",
    "            \n",
    "        if XX + WW != xprev:\n",
    "            node[5].append(gen_tree([xprev, YY, XX + WW - xprev, HH, depth + 1, [], -2], []))\n",
    "             \n",
    "        return node \n",
    "    \n",
    "    else: # découpe horizontale\n",
    "        # + 0.1 pour faire en sorte que la pièce commence juste après la découpe\n",
    "        L = [(items[k][2] + 0.1, -1, k) for k in range(n)] +\\\n",
    "            [(items[k][2] + height_item(items[k][0], items[k][3], batch_mat), k) for k in range(n)]  \n",
    "        L.sort()\n",
    "\n",
    "        cuts = []\n",
    "        opened = 0\n",
    "        max_item = -1\n",
    "        n_items = 0\n",
    "        for x in L:            \n",
    "            if opened == 0 and max_item + 1 == n_items:\n",
    "                    cuts.append((int(x[0]), n_items))        \n",
    "                    \n",
    "            if x[1] == -1:\n",
    "                opened += -1\n",
    "            else:\n",
    "                opened += 1\n",
    "                max_item = max(max_item, x[1])\n",
    "                n_items += 1\n",
    "                if opened == 0 and max_item + 1 == n_items:\n",
    "                    cuts.append((x[0], n_items))\n",
    "                # le reste, il n'y a pas de défauts\n",
    "        \n",
    "        #print(cuts)\n",
    "        xprev = YY\n",
    "        niprev = 0\n",
    "        if depth == 0:\n",
    "            for (y, ni) in cuts:\n",
    "                if ni > 0 and 0 < y - yprev < 100:\n",
    "                    raise Exception(\"2-cut constrain violated\")\n",
    "                \n",
    "                yprev = y\n",
    "                niprev = ni\n",
    "               \n",
    "        ns = 0    \n",
    "        yprev = YY\n",
    "        niprev = 0\n",
    "        for (y, ni) in cuts:\n",
    "            try:\n",
    "                #print(node)\n",
    "                if y != yprev:\n",
    "                    node[5].append(gen_tree([XX, yprev, WW,  y - yprev, depth + 1, [], -2],items[niprev:ni]))\n",
    "                    ns += 1\n",
    "                yprev = y\n",
    "                niprev = ni\n",
    "                \n",
    "            except Exception as error:\n",
    "                raise error\n",
    "                \n",
    "        if YY + HH != yprev:\n",
    "            ns += 1\n",
    "            node[5].append(gen_tree([XX, yprev, WW, YY + HH - yprev, depth + 1, [], -2], []))\n",
    "         \n",
    "        if depth == 3 and ns > 2:\n",
    "            raise Exception(\"Trimming failed\")\n",
    "        return node \n"
   ]
  },
  {
   "cell_type": "markdown",
   "metadata": {
    "slideshow": {
     "slide_type": "subslide"
    }
   },
   "source": [
    "### Affichage  d'un arbre  \n",
    "On trace les arbres en traçant les nœuds (rectangles en rouge), les items (une couleur par stack) et le numéro de l'item.\n",
    "\n",
    "La fonction `draw_trees` permet de tracer plusieurs arbres avec des `subplots`."
   ]
  },
  {
   "cell_type": "code",
   "execution_count": 98,
   "metadata": {
    "slideshow": {
     "slide_type": "-"
    }
   },
   "outputs": [],
   "source": [
    "colors_stacks = [(255, 62, 150), (205, 105, 201), (0, 0, 255), \n",
    "          (188, 210, 238), (0, 206, 209), (0, 205, 102), \n",
    "          (255, 255, 0), (128, 128, 0), (255, 165, 0), \n",
    "          (255, 140, 0), (255, 99, 71), (170, 170, 170)]"
   ]
  },
  {
   "cell_type": "code",
   "execution_count": 99,
   "metadata": {
    "slideshow": {
     "slide_type": "subslide"
    }
   },
   "outputs": [],
   "source": [
    "import cv2\n",
    "def draw_tree(tree, bin_id):\n",
    "    r = 10\n",
    "    img = np.zeros((heightPlates//r, widthPlates//r, 3), np.uint8)\n",
    "    \n",
    "    font = cv2.FONT_HERSHEY_SIMPLEX\n",
    "    def draw_rect_recursive(node, img):\n",
    "        [x, y, w, h, depth, sons, t] = node\n",
    "        \n",
    "        # Placement des pièces = couleur + id\n",
    "        if t > -1:\n",
    "            img = cv2.rectangle(img, (int(x//r), int(y//r)), \n",
    "                                (int((x + w)//r), int((y + h)//r)), \n",
    "                                colors_stacks[min(11, get_stack(t))], -1)\n",
    "            cv2.putText(img, str(t), (int((x)//(r)), int((y + h//2)//(r))) , font, 1, (255, 255, 255), 2, cv2.LINE_AA)\n",
    "        \n",
    "        # Dessin du contour (en rouge)\n",
    "        img = cv2.rectangle(img, (int(x//r), int(y//r)), (int((x + w)//r), int((y + h)//r)), (255, 0, 0), 2)          \n",
    "            \n",
    "        for n in sons:\n",
    "            img = draw_rect_recursive(n, img)\n",
    "        \n",
    "        # Placement des défauts\n",
    "        for k in range(len(list_def[bin_id][\"x\"][:, 2])):\n",
    "            [xd, yd, wd, hd] = list_def[bin_id][\"x\"][k, [2, 3, 4, 5]]\n",
    "            \n",
    "            # cercle plutôt qu'un rectangle\n",
    "            #img = cv2.rectangle(img, (int(xd//r), int(yd//r)), (int((xd + wd)//r), int((yd + hd)//r)), (0, 255, 0), -1)\n",
    "            \n",
    "            img = cv2.circle(img, (int((xd + wd/2)//r), int((yd + hd/2)//r)), 4, (0, 255, 0), -1) \n",
    "            \n",
    "        return img\n",
    "    draw_rect_recursive(tree, img)\n",
    "\n",
    "\n",
    "    plt.imshow(img)\n",
    "    plt.xticks(np.arange(0, widthPlates + 1, 1000)//r, np.arange(0, widthPlates + 1, 1000))\n",
    "    plt.yticks(np.arange(0, heightPlates + 1, 500)//r, np.arange(0, heightPlates + 1, 500))"
   ]
  },
  {
   "cell_type": "code",
   "execution_count": 100,
   "metadata": {
    "slideshow": {
     "slide_type": "subslide"
    }
   },
   "outputs": [],
   "source": [
    "def draw_trees(trees):\n",
    "    n = sum([len(tree) for tree in trees])//7\n",
    "    print(n)\n",
    "    for k in range(n):\n",
    "        plt.subplot(n//2 + 1,2,  k + 1)\n",
    "        draw_tree(trees[k], k)\n",
    "        plt.title(\"Bin {}\".format(k))\n",
    "\n",
    "\n",
    "    fig_size = plt.rcParams[\"figure.figsize\"]\n",
    "\n",
    "\n",
    "    # Set figure width to 12 and height to 9\n",
    "    fig_size[0] = 18\n",
    "    fig_size[1] = 9\n",
    "    plt.rcParams[\"figure.figsize\"] = fig_size\n",
    "    plt.subplots_adjust(left=0.125, bottom=0.2, right=0.7, top=1, wspace=0.2, hspace=.2)\n",
    "    plt.show()"
   ]
  },
  {
   "cell_type": "markdown",
   "metadata": {
    "slideshow": {
     "slide_type": "subslide"
    }
   },
   "source": [
    "### Création d'un fichier solution à partir d'un arbre\n",
    "Le fichier doit être un `.csv` avec un **;** comme séparateur et possédant les colonnes suivantes :\n",
    "\n",
    "> ```\n",
    "[PLATE_ID, NODE_ID, X, Y, WIDTH, HEIGHT, TYPE, CUT, PARENT]\n",
    "```\n",
    "\n",
    "Il faut faire attention à plusieurs choses :\n",
    "* toutes les valeurs indiquées doivent être des entiers\n",
    "* il faut que les largeurs ou hauteurs des nœuds soient des entiers non-nuls\n",
    "* les identifiants doivent être consécutifs et commencer à 0\n"
   ]
  },
  {
   "cell_type": "code",
   "execution_count": 101,
   "metadata": {
    "slideshow": {
     "slide_type": "subslide"
    }
   },
   "outputs": [],
   "source": [
    "def add_rec_mat(node, mat, k, parent, bin_id):\n",
    "    \"\"\"\n",
    "    k est l'id\n",
    "    \"\"\"\n",
    "    [XX, YY, WW, HH, depth, sons, t] = node    \n",
    "    mat.append([int(bin_id), int(k), int(XX), int(YY), int(WW), int(HH), int(t), int(depth), parent])\n",
    "\n",
    "    c = k\n",
    "    for s in sons:\n",
    "        c = add_rec_mat(s, mat, c + 1, k, bin_id)\n",
    "\n",
    "    return c\n",
    "\n",
    "\n",
    "def trees_to_mat(trees):\n",
    "    n = sum([len(tree) for tree in trees])//7\n",
    "    mat = []\n",
    "    c = -1\n",
    "    for bin_id in range(n):\n",
    "        c = add_rec_mat(trees[bin_id], mat, c + 1, \"\", bin_id)\n",
    "        \n",
    "    return mat\n",
    "\n",
    "def trees_to_file(instance, trees):\n",
    "    mat = trees_to_mat(trees)\n",
    "    #print(mat)\n",
    "    df = pd.DataFrame(mat, columns=['PLATE_ID', 'NODE_ID', 'X', 'Y', 'WIDTH', 'HEIGHT', 'TYPE', 'CUT', 'PARENT'])\n",
    "    df.to_csv(path + \"{}_solution.csv\".format(instance), sep = \";\", index =False)"
   ]
  },
  {
   "cell_type": "markdown",
   "metadata": {
    "slideshow": {
     "slide_type": "slide"
    }
   },
   "source": [
    "# Emplacements\n",
    "L'objectif des fonctions ci-dessous est de réussir à obtenir, pour un item et des items déjà placés quels sont emplacements possibles (et lesquels sont possibles pour chaque orientation).\n",
    "\n",
    "Un emplacement vérifie trois conditions :\n",
    "* La condition de *l'étoile verte*, cns pour vérifier la contrainte d'ordre (et être un emplacement décent)\n",
    "* La condition du *monstre rouge*, cns pour éviter les défauts (et être un emplacement décent)\n",
    "* La condition de *dimension*, qui garantit que la pièce tient.\n",
    "\n",
    "Une quatrième condition, relative à l'existence d'un arbre admissible et aux contraintes 1-cut, 2-cut et de profondeur maximale, est gérée par la fonction `gen_tree`."
   ]
  },
  {
   "cell_type": "markdown",
   "metadata": {
    "slideshow": {
     "slide_type": "subslide"
    }
   },
   "source": [
    "## La condition de l'étoile verte\n",
    "La *condition de l'étoile verte* est une CNS pour disposer d'une solution correcte en terme d'ordre : elle se déduit assez facilement de schémas et une illustration est proposée plus loin."
   ]
  },
  {
   "cell_type": "markdown",
   "metadata": {
    "slideshow": {
     "slide_type": "subslide"
    }
   },
   "source": [
    "#### Fonction pour vérifier la condition de l'étoile verte\n",
    "Fonction codée en C pour gagner en temps de calcul, peut-être moyen d'optimiser encore en enlevant les appels aux fonctions `width_item` et `height_item`, fonction en pratique **inutilisée** pour le moment."
   ]
  },
  {
   "cell_type": "code",
   "execution_count": 102,
   "metadata": {
    "slideshow": {
     "slide_type": "-"
    }
   },
   "outputs": [],
   "source": [
    "%%cython\n",
    "\n",
    "from __main__ import width_item, height_item \n",
    "cimport numpy as np\n",
    "\n",
    "cpdef int cond_etoile_verte(list items, tuple item, np.ndarray batch_mat):\n",
    "    cdef int n = len(items)\n",
    "    cdef int i = 0\n",
    "    \n",
    "    while i < n and\\\n",
    "        (items[i][1] + width_item(items[i][0], items[i][3], batch_mat) <= item[1] or\\\n",
    "        items[i][2] + height_item(items[i][0], items[i][3], batch_mat) <= item[2]):\n",
    "            \n",
    "        i += 1\n",
    "    return not(i < n)            "
   ]
  },
  {
   "cell_type": "markdown",
   "metadata": {
    "slideshow": {
     "slide_type": "subslide"
    }
   },
   "source": [
    "#### Ancienne fonction pour calculer les meilleurs points qui vérifient la condition de l'étoile verte\n",
    "Si de très nombreux points vérifient la condition de l'étoile verte, certains sont *obligatoirement* meilleurs. En effet, si on fixe une coordonnée, il est toujours plus intéressant d'aller le *plus à gauche* ou le *plus à droite* possible.\n",
    "\n",
    "La fonction ci-dessous permet de déterminer de tels points étant donnée une liste d'items précédemment placés. Toutefois, il n'est pas nécessaire de connaître l'intégralité des items précédemment placés mais seulement une enveloppe : cette fonction n'est donc plus utilisée.\n",
    "\n",
    "De par son ingénierie, elle a fortement inspiré la fonction pour déterminer les emplacements libres de défauts."
   ]
  },
  {
   "cell_type": "code",
   "execution_count": 103,
   "metadata": {
    "slideshow": {
     "slide_type": "-"
    }
   },
   "outputs": [],
   "source": [
    "def locations_etoile_verte_deprecated(items, item, rotated, batch_mat):\n",
    "    \"\"\"\n",
    "        Renvoie toutes les positions qui vérifient la condition de l'étoile verte\n",
    "        DEPRECATED car en fait on a plus d'invariants qui permettent d'accélérer \n",
    "        GRANDEMENT le travail :O\n",
    "        \n",
    "    \"\"\"\n",
    "    \n",
    "    XX = [0] + sorted([x[1] + width_item(x[0], x[3], batch_mat) for x in items])\n",
    "    YY = [0] + sorted([x[2] + height_item(x[0], x[3], batch_mat) for x in items])\n",
    "    \n",
    "    x_max = widthPlates - width_item(item, rotated, batch_mat)\n",
    "    y_max = heightPlates - height_item(item, rotated, batch_mat)\n",
    "    item = 5\n",
    "    locations = []\n",
    "    i = 0\n",
    "    j = 0\n",
    "    jmax = len(YY)\n",
    "    imax = len(XX)\n",
    "    while i < imax and j < jmax:\n",
    "        x = XX[i]\n",
    "        y = YY[j]\n",
    "        if x > x_max:\n",
    "            imax = i\n",
    "            continue\n",
    "        if y > y_max:\n",
    "            jmax = j\n",
    "            j = 0\n",
    "            i += 1\n",
    "            continue\n",
    "        if cond_etoile_verte(items, (item, x, y, rotated), batch_mat):\n",
    "            locations.append((x, y))        \n",
    "            jmax = j\n",
    "            j = 0\n",
    "            i += 1\n",
    "        else:\n",
    "            j += 1\n",
    "            if j == jmax:\n",
    "                i += 1\n",
    "                j = 0\n",
    "    return locations\n",
    "        "
   ]
  },
  {
   "cell_type": "markdown",
   "metadata": {
    "slideshow": {
     "slide_type": "subslide"
    }
   },
   "source": [
    "Ces emplacements trouvés sont cohérents avec la *condition de l'étoile verte*.\n",
    "\n",
    "En effet, si on affiche tous les emplacements qui vérifient cette condition ainsi que les emplacements calculés par cette fonction on trouve :"
   ]
  },
  {
   "cell_type": "code",
   "execution_count": 104,
   "metadata": {
    "slideshow": {
     "slide_type": "-"
    }
   },
   "outputs": [
    {
     "data": {
      "image/png": "[encoded data removed]",
      "text/plain": [
       "<matplotlib.figure.Figure at 0x7f47139d0668>"
      ]
     },
     "metadata": {},
     "output_type": "display_data"
    }
   ],
   "source": [
    "items = [(0, 0, 0, False), (10, 0, 0, False), (2, 0, 0, False), (3, 0, 0, True)]\n",
    "\n",
    "locations2 = []\n",
    "for x in range(0, widthPlates, 20):\n",
    "    for y in range(0, heightPlates, 20):\n",
    "        if cond_etoile_verte(items, (5, x, y, True), batch_mat):\n",
    "            locations2.append((x, y))\n",
    "            \n",
    "locations = locations_etoile_verte_deprecated(items, 5, True, batch_mat)\n",
    "plt.scatter([x[0] for x in locations2], [x[1] for x in locations2])\n",
    "plt.scatter([x[0] for x in locations], [x[1] for x in locations])\n",
    "plt.xlim([0, widthPlates])\n",
    "plt.ylim([0, heightPlates])\n",
    "plt.show()"
   ]
  },
  {
   "cell_type": "markdown",
   "metadata": {
    "slideshow": {
     "slide_type": "subslide"
    }
   },
   "source": [
    "### Nouvelle fonction\n",
    "\n",
    "Étant donnée que l'*étoile verte* est définie par un nombre fini d'items : ce sont *davantage* les derniers items qui la définissent. Il s'agit plus précisemment d'une enveloppe d'items (nommée `hull` dans les fonctions). Afin de simplifier l'algorithmie, cette enveloppe correspond à une liste de points `(x, y)` triée selon `x`.\n",
    "\n",
    "Ainsi la nouvelle fonction possède deux étapes :\n",
    "* Dans un premier temps, il s'agit d'*incrémenter l'étoile verte* : si `hull` est une enveloppe, il s'agit de calculer la nouvelle enveloppe qui contienne une position supplémentaire. \n",
    "* Dans un deuxième temps, il s'agit de savoir si une position est inclue ou non dans l'enveloppe : il suffit de parcourir l'enveloppe (une dichotomie pourrait être envisagée mais comme l'enveloppe est de toute petite taille, il est plus intéressant de faire un parcours ± exhaustif)."
   ]
  },
  {
   "cell_type": "code",
   "execution_count": 1,
   "metadata": {
    "slideshow": {
     "slide_type": "subslide"
    }
   },
   "outputs": [],
   "source": [
    "def incr_etoile_verte(hull, pos):\n",
    "    \"\"\"\n",
    "        hull = [(x, y)] sorted by x inc. and y dec.\n",
    "        pos = (X, Y) (corresponds to (x + w, y + h))\n",
    "        RAJOUTER ICI L'INCRÉMENTATION DES DÉFAUTS\n",
    "    \"\"\"\n",
    "    (X, Y) = pos\n",
    "    k = 0\n",
    "    while k < len(hull):\n",
    "        (x, y) = hull[k]\n",
    "        if x == X:\n",
    "            del hull[k]\n",
    "            continue\n",
    "        \n",
    "        if x > X:\n",
    "            break\n",
    "            \n",
    "        if y < Y:\n",
    "            del hull[k]\n",
    "            continue\n",
    "            \n",
    "        k += 1    \n",
    "    \n",
    "    hull.insert(k, (X, Y))\n",
    "    return hull  "
   ]
  },
  {
   "cell_type": "code",
   "execution_count": 3,
   "metadata": {},
   "outputs": [
    {
     "data": {
      "text/plain": [
       "[(1, 1), (10, 10)]"
      ]
     },
     "execution_count": 3,
     "metadata": {},
     "output_type": "execute_result"
    }
   ],
   "source": [
    "incr_etoile_verte(hull, (1, 1))"
   ]
  },
  {
   "cell_type": "code",
   "execution_count": 106,
   "metadata": {
    "slideshow": {
     "slide_type": "subslide"
    }
   },
   "outputs": [],
   "source": [
    "def incr_etoile_verte_copy(hull, x, y, w, h, rotated):\n",
    "    hull_c = copy(hull)\n",
    "    if rotated:\n",
    "        incr_etoile_verte(hull_c, (x + h, y + w))\n",
    "    else:\n",
    "        incr_etoile_verte(hull_c, (x + w, y + h))\n",
    "    return hull_c"
   ]
  },
  {
   "cell_type": "markdown",
   "metadata": {
    "slideshow": {
     "slide_type": "subslide"
    }
   },
   "source": [
    "On dispose enfin de tous les élements pour renvoyer la liste des emplacements qui vérifient la condition de l'étoile verte."
   ]
  },
  {
   "cell_type": "code",
   "execution_count": 107,
   "metadata": {
    "slideshow": {
     "slide_type": "-"
    }
   },
   "outputs": [],
   "source": [
    "%%cython\n",
    "cimport numpy as np\n",
    "from copy import copy\n",
    "from __main__ import width_item, height_item \n",
    "\n",
    "cpdef list locations_etoile_verte(list hull, int item, np.ndarray batch_mat, widthPlates, heightPlates):\n",
    "    \"\"\"\n",
    "        Renvoie toutes les positions qui vérifient la condition de l'étoile verte\n",
    "        ATTENTION, NE VÉRIFIE PAS QUE LA POSITION (0, 0) EST VALIDE\n",
    "    \"\"\"\n",
    "    cdef int w = width_item(item, False, batch_mat)# maybe widthNode...\n",
    "    cdef int h = height_item(item, False, batch_mat)\n",
    "    \n",
    "    cdef int x_max_rot = widthPlates - h \n",
    "    cdef int y_max_rot = heightPlates - w\n",
    "    cdef int x_max = widthPlates - w\n",
    "    cdef int y_max = heightPlates - h\n",
    "    \n",
    "    cdef list locations = [copy(hull) for x in range(2)] #locations[0] => rotated = false\n",
    "    \n",
    "    cdef int x\n",
    "    cdef int y\n",
    "    cdef int n = len(hull)\n",
    "    cdef int k\n",
    "    \n",
    "    if n > 0: # la longueur de l'enveloppe\n",
    "        \n",
    "        (x, y) = (0, hull[0][1])\n",
    "        if y <= y_max:\n",
    "            locations[0].append((x, y))\n",
    "        \n",
    "        if y <= y_max_rot:\n",
    "            locations[1].append((x, y))\n",
    "            \n",
    "        k = 0\n",
    "        while k < n - 1 and x < x_max:\n",
    "            (x, y) = (hull[k][0], hull[k + 1][1])\n",
    "            if y < y_max:\n",
    "                locations[0].append((x, y))\n",
    "            \n",
    "            if y < y_max_rot:\n",
    "                locations[1].append((x, y))\n",
    "                \n",
    "            k += 1\n",
    "        \n",
    "        (x, y) = (hull[-1][0], 0)\n",
    "        if x <= x_max:\n",
    "            locations[0].append((x, y))\n",
    "            \n",
    "        if x <= x_max_rot:\n",
    "            locations[1].append((x, y))\n",
    "        \n",
    "        return locations\n",
    "    else:\n",
    "        # ne vérifie pas que c'est valide ici\n",
    "        return [[(0, 0)], [(0, 0)]]"
   ]
  },
  {
   "cell_type": "markdown",
   "metadata": {
    "slideshow": {
     "slide_type": "subslide"
    }
   },
   "source": [
    "Le temps est raisonnable, pour une instance toute petite :\n",
    "> 1.81 µs ± 43 ns per loop (mean ± std. dev. of 7 runs, 1000000 loops each)"
   ]
  },
  {
   "cell_type": "markdown",
   "metadata": {
    "slideshow": {
     "slide_type": "slide"
    }
   },
   "source": [
    "## La gestion des défauts\n",
    "\n",
    "On dispose de deux fonctions : \n",
    "* Tout d'abord, on regarde si un défaut est inclus ou non dans une pièce. Il faut remarquer que cette fonction ne fonctionne pas dans un cas général : les défauts dans `defs_included` correspondent à un sous-ensemble de défauts susceptibles d'être inclus.\n",
    "* Une deuxième fonction permet de renvoyer, pour une pièce, une position et une orientation données, quels sont emplacements libres de défauts. De plus cette fonction se charge de vérifier la contrainte d'inclusion (pour faire en sorte que la pièce ne dépasse pas).\n",
    " * Si l'emplacement est possible et libre de défaut, on renvoie la position\n",
    " * Si l'emplacement contient plusieurs défauts, on détermine les nouveaux emplacements possibles (en s'inspirant de l'ancienne fonction de la condition de l'étoile verte − définie plus loin) et on applique récursivement la fonction à chacun de ces emplacements."
   ]
  },
  {
   "cell_type": "code",
   "execution_count": 108,
   "metadata": {
    "slideshow": {
     "slide_type": "subslide"
    }
   },
   "outputs": [],
   "source": [
    "%%cython\n",
    "cpdef int loc_not_included_defects(list defs_included, int X, int Y):\n",
    "    \n",
    "    cdef int i = 0\n",
    "    \n",
    "    while i < len(defs_included) and\\\n",
    "        (defs_included[0][1] + defs_included[0][3] <= X or\\\n",
    "        defs_included[0][2] + defs_included[0][4] <= Y):\n",
    "        i += 1\n",
    "        \n",
    "    return not(i < len(defs_included))    "
   ]
  },
  {
   "cell_type": "code",
   "execution_count": 109,
   "metadata": {
    "slideshow": {
     "slide_type": "subslide"
    }
   },
   "outputs": [],
   "source": [
    "from functools import reduce\n",
    "\n",
    "def locs_free_of_defects(bin_id, X, Y, W, H, x_max, y_max, list_def):\n",
    "\n",
    "    # 1ère étape = détecter les positions des défauts qui mangent\n",
    "    IMIN = 0\n",
    "    i = IMIN\n",
    "    IMAX = len(list_def[bin_id][\"x\"][:, 2])\n",
    "    x = X\n",
    "    defects_included = []\n",
    "    \n",
    "    XW = X + W\n",
    "    YH = Y + H\n",
    "    \n",
    "    if X > x_max or Y > y_max:\n",
    "        return []\n",
    "    \n",
    "    while i < IMAX and x < XW:\n",
    "        [k, x, y, w, h] = list_def[bin_id][\"x\"][i, [0, 2, 3, 4, 5]]\n",
    "\n",
    "        if X <= x and x + w < XW and Y <= y and y < YH:\n",
    "            defects_included.append((k, x, y, w, h))\n",
    "\n",
    "        if x > XW:\n",
    "            IMAX = i\n",
    "\n",
    "        if x < X:\n",
    "            IMIN += 1\n",
    "\n",
    "        i += 1\n",
    "    \n",
    "    #print(i, imax, x, x_max, y, y_max)\n",
    "    #print(\"Lg def : \", len(defects_included), IMIN, IMAX)\n",
    "    \n",
    "    if len(defects_included) == 0:\n",
    "        return [(X, Y)]\n",
    "    \n",
    "    # 2ème étape = pour ces points là, appliquer l'ancien algorithme de l'étoile verte\n",
    "    XX =sorted([X] + [list_def[bin_id][\"x\"][i, 2] \n",
    "               + list_def[bin_id][\"x\"][i, 4] for i in range(IMIN, IMAX)])\n",
    "    YY = sorted([Y] + [list_def[bin_id][\"x\"][i, 3] \n",
    "               + list_def[bin_id][\"x\"][i, 5] for i in range(IMIN, IMAX)])\n",
    "    #print(XX, YY)\n",
    "    locations = []\n",
    "    i = 0\n",
    "    j = 0\n",
    "    jmax = len(YY)\n",
    "    imax = len(XX)\n",
    "    #print(\"imax\", imax, jmax)\n",
    "    while i < imax and j < jmax:\n",
    "        x = XX[i]\n",
    "        y = YY[j]\n",
    "        #print(x, y)\n",
    "        if x > x_max:\n",
    "            imax = i\n",
    "            continue\n",
    "        if y > y_max:\n",
    "            jmax = j\n",
    "            j = 0\n",
    "            i += 1\n",
    "            continue\n",
    "\n",
    "    if loc_not_included_defects(defects_included, x, y):\n",
    "        locations.append((x, y))        \n",
    "        jmax = j\n",
    "        j = 0\n",
    "        i += 1\n",
    "    else:\n",
    "        j += 1\n",
    "    if j == jmax:\n",
    "        i += 1\n",
    "        j = 0\n",
    "\n",
    "    #print(\"loc\", locations)\n",
    "    if len(locations) > 0:        \n",
    "        return reduce(lambda x, y: x + y, \n",
    "                  [locs_free_of_defects(bin_id, x, y, W, H, x_max, y_max, list_def) for (x, y) in locations])\n",
    "    return []"
   ]
  },
  {
   "cell_type": "code",
   "execution_count": 110,
   "metadata": {
    "slideshow": {
     "slide_type": "subslide"
    }
   },
   "outputs": [],
   "source": [
    "\n",
    "def nb_defects_in_etoile_verte(list_def_bin, hull):\n",
    "    n = 0\n",
    "    if len(hull) == 0:\n",
    "        return 0\n",
    "    \n",
    "    if len(list_def_bin[\"x\"]) == 0:\n",
    "        return 0\n",
    "    \n",
    "    k_def = 0\n",
    "    k_hull = 0\n",
    "    \n",
    "    y_st = hull[k_hull][1]\n",
    "    x_st = hull[k_hull][0]\n",
    "\n",
    "    [_, _, x_def, y_def, w_def, h_def] = list_def_bin[\"x\"][k_def]\n",
    "    x_def += w_def\n",
    "    y_def += h_def\n",
    "\n",
    "    while k_def < len(list_def_bin[\"x\"][:, 0]) and k_hull < len(hull):\n",
    "\n",
    "        if x_def <= x_st:\n",
    "            if y_def <= y_st:\n",
    "                n += 1\n",
    "\n",
    "            k_def += 1\n",
    "            if k_def < len(list_def_bin[\"x\"][:, 0]):\n",
    "                [_, _, x_def, y_def, w_def, h_def] = list_def_bin[\"x\"][k_def]\n",
    "                x_def += w_def\n",
    "                y_def += h_def\n",
    "\n",
    "        else:\n",
    "            k_hull += 1\n",
    "            if k_hull < len(hull):\n",
    "                y_st = hull[k_hull][1]\n",
    "                x_st = hull[k_hull][0]\n",
    "    return n"
   ]
  },
  {
   "cell_type": "markdown",
   "metadata": {},
   "source": [
    "### Combinaison des deux\n",
    "On peut désormais calculer les emplacements qui vérifient les conditions de l'étoile verte et en déduire ceux qui vérifient à la fois la condition de l'étoile verte et celle du *monstre rouge*."
   ]
  },
  {
   "cell_type": "code",
   "execution_count": 111,
   "metadata": {},
   "outputs": [],
   "source": [
    "def locations_etoile_verte_and_free_of_defects(bin_id, hull, item, batch_mat,\n",
    "                                                widthPlates, heightPlates, list_defects):\n",
    "    \n",
    "    \n",
    "    loc = locations_etoile_verte(hull, item, batch_mat, widthPlates, heightPlates)\n",
    "    \n",
    "    (W, H) = width_height_mat(item, False, batch_mat)\n",
    "    if len(loc[0]) > 0:\n",
    "        loc[0] = reduce(lambda x, y: x + y,\n",
    "                        [locs_free_of_defects(bin_id, x, y, W, H, widthPlates - W, heightPlates - H, list_defects)\n",
    "                       for (x, y) in loc[0]])\n",
    "    \n",
    "    if len(loc[1]) > 0:\n",
    "        loc[1] = reduce(lambda x, y: x + y,\n",
    "                        [locs_free_of_defects(bin_id, x, y, H, W, widthPlates - H, heightPlates - W, list_defects)\n",
    "                       for (x, y) in loc[1]])\n",
    "    #print(\"loc\", item, loc)\n",
    "    return loc\n",
    "    "
   ]
  },
  {
   "cell_type": "markdown",
   "metadata": {},
   "source": [
    "# Séquence −> arbre admissible\n",
    "Disposant de tous les éléments précédents, il est envisageable de tenter de placer une séquence admissible donnée, obtenue aléatoirement : on pourrait alors construire plusieurs séquences possibles.\n",
    "\n",
    "Mine de rien, c'est déjà pas mal du tout d'obtenir un tel algorithme et plutôt prometteur pour la suite."
   ]
  },
  {
   "cell_type": "code",
   "execution_count": 112,
   "metadata": {},
   "outputs": [],
   "source": [
    "def place_sequence(sequence):\n",
    "    bin_id = 0\n",
    "    # selection de l'item à placer\n",
    "\n",
    "    items_cut = [[] for x in range(100)] # liste d'items par bin (k, x, y, rotated)\n",
    "    trees = [[] for x in range(100)]\n",
    "    hulls = [[] for x in range(100)]\n",
    "\n",
    "    k = 0\n",
    "    while k < len(sequence) and bin_id < 100:\n",
    "        node = [0, 0, widthPlates, heightPlates, 0, [], -2]\n",
    "        item = sequence[k]\n",
    "        rotated = None\n",
    "        (w, h) = width_height_mat(item, False, batch_mat)\n",
    "        # Liste des positions possibles, triées par de la \"meilleure\" \n",
    "        # à la \"pire\" −> réussir à donner un tel sens\n",
    "        # un emplacement doit vérifier :\n",
    "        # 1 / la condition de l'étoile verte\n",
    "        # 2 / l'évitement des défauts\n",
    "        # [(xk, yk)]\n",
    "        locations = locations_etoile_verte_and_free_of_defects(bin_id, hulls[bin_id], item, batch_mat,\n",
    "                                                widthPlates, heightPlates, list_def)\n",
    "\n",
    "        \n",
    "        #print(item, locations)\n",
    "        if len(locations[0]) == 0:\n",
    "            rotated = True\n",
    "        elif len(locations[1]) == 0:\n",
    "            rotated = False\n",
    "        else:\n",
    "            rotated = randint(0, 1) == 1\n",
    "       \n",
    "        i = 0 \n",
    "        while i < len(locations[rotated]):\n",
    "            (x, y) = locations[rotated][i]\n",
    "            \n",
    "            # pour chaque emplacement, creation d'un arbre admissible\n",
    "            try:\n",
    "                trees[bin_id] = gen_tree(node, items_cut[bin_id] + [(item, x, y, rotated)])\n",
    "                items_cut[bin_id].append((item, x, y, rotated))\n",
    "                \n",
    "                if rotated:\n",
    "                    incr_etoile_verte(hulls[bin_id], (x + h, y + w))\n",
    "                else:\n",
    "                    incr_etoile_verte(hulls[bin_id], (x + w, y + h))\n",
    "                break\n",
    "            except Exception as error:\n",
    "                #print(error)\n",
    "                node = [0, 0, widthPlates, heightPlates, 0, [], -2]\n",
    "            i += 1\n",
    "    \n",
    "        if i == len(locations[rotated]):\n",
    "            k -= 1\n",
    "            bin_id += 1\n",
    "        \n",
    "        k += 1\n",
    "    \n",
    "    return (trees, items_cut)"
   ]
  },
  {
   "cell_type": "markdown",
   "metadata": {},
   "source": [
    "#### Premier test qui vérifie toutes les contraintes"
   ]
  },
  {
   "cell_type": "code",
   "execution_count": 113,
   "metadata": {},
   "outputs": [
    {
     "ename": "KeyboardInterrupt",
     "evalue": "",
     "output_type": "error",
     "traceback": [
      "\u001b[0;31m---------------------------------------------------------------------------\u001b[0m",
      "\u001b[0;31mKeyboardInterrupt\u001b[0m                         Traceback (most recent call last)",
      "\u001b[0;32m<ipython-input-113-9ed52fe994ec>\u001b[0m in \u001b[0;36m<module>\u001b[0;34m()\u001b[0m\n\u001b[0;32m----> 1\u001b[0;31m \u001b[0;34m(\u001b[0m\u001b[0mtrees\u001b[0m\u001b[0;34m,\u001b[0m \u001b[0mitems_cut\u001b[0m\u001b[0;34m)\u001b[0m \u001b[0;34m=\u001b[0m \u001b[0mplace_sequence\u001b[0m\u001b[0;34m(\u001b[0m\u001b[0mrandom_seq\u001b[0m\u001b[0;34m(\u001b[0m\u001b[0mstacks\u001b[0m\u001b[0;34m)\u001b[0m\u001b[0;34m)\u001b[0m\u001b[0;34m\u001b[0m\u001b[0m\n\u001b[0m\u001b[1;32m      2\u001b[0m \u001b[0mdraw_trees\u001b[0m\u001b[0;34m(\u001b[0m\u001b[0mtrees\u001b[0m\u001b[0;34m)\u001b[0m\u001b[0;34m\u001b[0m\u001b[0m\n",
      "\u001b[0;32m<ipython-input-112-7ffce80c82ee>\u001b[0m in \u001b[0;36mplace_sequence\u001b[0;34m(sequence)\u001b[0m\n\u001b[1;32m     20\u001b[0m         \u001b[0;31m# [(xk, yk)]\u001b[0m\u001b[0;34m\u001b[0m\u001b[0;34m\u001b[0m\u001b[0m\n\u001b[1;32m     21\u001b[0m         locations = locations_etoile_verte_and_free_of_defects(bin_id, hulls[bin_id], item, batch_mat,\n\u001b[0;32m---> 22\u001b[0;31m                                                 widthPlates, heightPlates, list_def)\n\u001b[0m\u001b[1;32m     23\u001b[0m \u001b[0;34m\u001b[0m\u001b[0m\n\u001b[1;32m     24\u001b[0m \u001b[0;34m\u001b[0m\u001b[0m\n",
      "\u001b[0;32m<ipython-input-111-634720805b9e>\u001b[0m in \u001b[0;36mlocations_etoile_verte_and_free_of_defects\u001b[0;34m(bin_id, hull, item, batch_mat, widthPlates, heightPlates, list_defects)\u001b[0m\n\u001b[1;32m     14\u001b[0m         loc[1] = reduce(lambda x, y: x + y,\n\u001b[1;32m     15\u001b[0m                         [locs_free_of_defects(bin_id, x, y, H, W, widthPlates - H, heightPlates - W, list_defects)\n\u001b[0;32m---> 16\u001b[0;31m                        for (x, y) in loc[1]])\n\u001b[0m\u001b[1;32m     17\u001b[0m     \u001b[0;31m#print(\"loc\", item, loc)\u001b[0m\u001b[0;34m\u001b[0m\u001b[0;34m\u001b[0m\u001b[0m\n\u001b[1;32m     18\u001b[0m     \u001b[0;32mreturn\u001b[0m \u001b[0mloc\u001b[0m\u001b[0;34m\u001b[0m\u001b[0m\n",
      "\u001b[0;32m<ipython-input-111-634720805b9e>\u001b[0m in \u001b[0;36m<listcomp>\u001b[0;34m(.0)\u001b[0m\n\u001b[1;32m     14\u001b[0m         loc[1] = reduce(lambda x, y: x + y,\n\u001b[1;32m     15\u001b[0m                         [locs_free_of_defects(bin_id, x, y, H, W, widthPlates - H, heightPlates - W, list_defects)\n\u001b[0;32m---> 16\u001b[0;31m                        for (x, y) in loc[1]])\n\u001b[0m\u001b[1;32m     17\u001b[0m     \u001b[0;31m#print(\"loc\", item, loc)\u001b[0m\u001b[0;34m\u001b[0m\u001b[0;34m\u001b[0m\u001b[0m\n\u001b[1;32m     18\u001b[0m     \u001b[0;32mreturn\u001b[0m \u001b[0mloc\u001b[0m\u001b[0;34m\u001b[0m\u001b[0m\n",
      "\u001b[0;32m<ipython-input-109-a386bca29815>\u001b[0m in \u001b[0;36mlocs_free_of_defects\u001b[0;34m(bin_id, X, Y, W, H, x_max, y_max, list_def)\u001b[0m\n\u001b[1;32m     52\u001b[0m         \u001b[0my\u001b[0m \u001b[0;34m=\u001b[0m \u001b[0mYY\u001b[0m\u001b[0;34m[\u001b[0m\u001b[0mj\u001b[0m\u001b[0;34m]\u001b[0m\u001b[0;34m\u001b[0m\u001b[0m\n\u001b[1;32m     53\u001b[0m         \u001b[0;31m#print(x, y)\u001b[0m\u001b[0;34m\u001b[0m\u001b[0;34m\u001b[0m\u001b[0m\n\u001b[0;32m---> 54\u001b[0;31m         \u001b[0;32mif\u001b[0m \u001b[0mx\u001b[0m \u001b[0;34m>\u001b[0m \u001b[0mx_max\u001b[0m\u001b[0;34m:\u001b[0m\u001b[0;34m\u001b[0m\u001b[0m\n\u001b[0m\u001b[1;32m     55\u001b[0m             \u001b[0mimax\u001b[0m \u001b[0;34m=\u001b[0m \u001b[0mi\u001b[0m\u001b[0;34m\u001b[0m\u001b[0m\n\u001b[1;32m     56\u001b[0m             \u001b[0;32mcontinue\u001b[0m\u001b[0;34m\u001b[0m\u001b[0m\n",
      "\u001b[0;31mKeyboardInterrupt\u001b[0m: "
     ]
    }
   ],
   "source": [
    "(trees, items_cut) = place_sequence(random_seq(stacks))\n",
    "draw_trees(trees)"
   ]
  },
  {
   "cell_type": "markdown",
   "metadata": {},
   "source": [
    "#### Calcul du coût défini dans l'énoncé de la ROADEF"
   ]
  },
  {
   "cell_type": "code",
   "execution_count": null,
   "metadata": {},
   "outputs": [],
   "source": [
    "def cost_roadef(items_cut):\n",
    "    s = 0\n",
    "    n = len([i for i in range(len(items_cut)) if len(items_cut[i]) > 0])\n",
    "    for bin_id in range(n):\n",
    "        for it in items_cut[bin_id]:\n",
    "            s += width_item(int(it[0]), True, batch_mat)*height_item(int(it[0]), True, batch_mat)\n",
    "        \n",
    "    list_residuals = [item[1] + width_item(item[0], item[3], batch_mat) for item in items_cut[n - 1]]\n",
    "    # Normalement, ça ne devrait pas arriver…\n",
    "    if len(list_residuals) == 0:\n",
    "        return 0\n",
    "    \n",
    "    return ((n - 1)*widthPlates + max(list_residuals))*heightPlates - s"
   ]
  },
  {
   "cell_type": "markdown",
   "metadata": {},
   "source": [
    "#### Résolution aléatoire\n",
    "Dans un cas très réduit, juste pour simuler en tirant au sort des séquences"
   ]
  },
  {
   "cell_type": "code",
   "execution_count": null,
   "metadata": {
    "scrolled": false
   },
   "outputs": [],
   "source": [
    "def test_alea(n = 500):\n",
    "    best_score = np.inf\n",
    "    best_trees = None\n",
    "    best_seq = []\n",
    "    best_items_cuts = []\n",
    "\n",
    "    for k in range(n):\n",
    "        seq = random_seq(stacks)\n",
    "        (trees, items_cut) = place_sequence(seq)\n",
    "        score = cost_roadef(items_cut)\n",
    "        if score < best_score:\n",
    "            best_score = score\n",
    "            best_trees = trees\n",
    "            best_seq = seq\n",
    "            best_items_cuts = items_cut\n",
    "            print(\"Current best score : \", score)\n",
    "    draw_trees(best_trees)\n",
    "    return (best_seq, best_trees, best_items_cuts)\n",
    "(seq, trees, items_cut)= test_alea(500)"
   ]
  },
  {
   "cell_type": "code",
   "execution_count": null,
   "metadata": {},
   "outputs": [],
   "source": [
    "cost_roadef(items_cut)"
   ]
  },
  {
   "cell_type": "markdown",
   "metadata": {},
   "source": [
    "Il y a un bug étrange avec le coût de la ROADEF qui vaut parfois 0, étant donné qu'une liste n'est pas calculée. En tout cas, on vérifie que l'algorithme fonctionne mais que les résultats ne sont pas très positifs."
   ]
  },
  {
   "cell_type": "markdown",
   "metadata": {},
   "source": [
    "# Algorithme glouton (et aléatoire)\n",
    "\n",
    "**Objectif** : disposer de (très) bonnes solutions sur une base gloutonne (sans trop de backtracking :p, du moins pour le moment) mais que ces solutions disposent d'une partie aléatoire afin de pouvoir en tester plusieurs (*plus tard*). \n",
    "\n",
    "La partie aléatoire viendrait d'une composante du score.\n",
    "\n",
    "**NB.** Pour le moment, deux contraintes ne sont pas encore implémentées :\n",
    "* Taille des déchets $> 20×20$\n",
    "* Pas de coup sur des déchets\n",
    "\n",
    "**Idée générale de l'algorithme**\n",
    " > Tant que des pièces sont disponibles:\n",
    " >>Calculer pour toutes les pièces possibles (une par stack) et toutes leurs positions / orientations un score (> 100 par étape...)\n",
    " >> Appliquer la transformation avec avec la *meilleure pièce* placée au *bon* endroit et *bien orientée*.\n",
    " \n",
    " > Et ça marche !\n",
    " \n",
    "**Quelques pistes pour accélerer le calcul** :\n",
    "* Il semblerait que le résultat soit meilleur pour les premières positions (pas forcément LA première) (mais 1, 2 ou 3…)\n",
    "* Certaines pièces peuvent ne pas être meilleures (quoi que avec la présence des défauts)\n",
    "\n",
    "**Quelques pistes pour notre *score***:\n",
    "* On veut minimiser l'espace perdu (*aire de l'étoile verte*)\n",
    "* S'il y a un défaut, elle n'est pas vraiment perdue… Peut-être considérer que $20\\times20$ par défaut ne sont pas perdus ?\n",
    "* Est-ce qu'on ne considérerait pas des rectangles ?"
   ]
  },
  {
   "cell_type": "markdown",
   "metadata": {},
   "source": [
    "## Le score"
   ]
  },
  {
   "cell_type": "markdown",
   "metadata": {},
   "source": [
    "#### Fonction de calcul de surface *étoile verte*"
   ]
  },
  {
   "cell_type": "code",
   "execution_count": null,
   "metadata": {},
   "outputs": [],
   "source": [
    "%%cython\n",
    "\n",
    "cpdef int area_etoile_verte(list hull):\n",
    "    cdef int n = len(hull)\n",
    "    cdef int k = 0\n",
    "    cdef int area = 0\n",
    "    if n > 0:\n",
    "        area = hull[0][0]*hull[0][1]\n",
    "\n",
    "        while k < n - 1:\n",
    "            area += (hull[k + 1][0] - hull[k][0])*hull[k + 1][1]\n",
    "            k += 1\n",
    "    return area"
   ]
  },
  {
   "cell_type": "markdown",
   "metadata": {},
   "source": [
    "On a eu un eu un **facteur > 4** avec le passage en `Cython` et le typage des variables."
   ]
  },
  {
   "cell_type": "markdown",
   "metadata": {},
   "source": [
    "Codons une fonction de score associée à cette surface, elle est à optimiser car je n'aime pas du tout faire une telle copie :'("
   ]
  },
  {
   "cell_type": "code",
   "execution_count": null,
   "metadata": {},
   "outputs": [],
   "source": [
    "from copy import deepcopy\n",
    "\n",
    "def score_etoile_verte(hull, pos, previous_score, list_def_bin):\n",
    "    hull_c = deepcopy(hull)\n",
    "    #n = nb_defects_in_etoile_verte(list_def_bin, hull_c) - nb_defects_in_etoile_verte(list_def_bin, hull)\n",
    "    #print(hull_c)\n",
    "    incr_etoile_verte(hull_c, pos)\n",
    "    return (len(hull_c),\n",
    "            area_etoile_verte(hull_c) - previous_score,\n",
    "            nb_defects_in_etoile_verte(list_def_bin, hull_c) - nb_defects_in_etoile_verte(list_def_bin, hull))\n",
    "    "
   ]
  },
  {
   "cell_type": "markdown",
   "metadata": {},
   "source": [
    "**Implémentation** du score :\n",
    "* $\\lambda.x$ pour favoriser les pièces sur $x$\n",
    "* enlever dans le score l'aire du rectangle courant (car du coup ce n'est pas perdu :))"
   ]
  },
  {
   "cell_type": "code",
   "execution_count": null,
   "metadata": {},
   "outputs": [],
   "source": [
    "from random import random\n",
    "from copy import deepcopy\n",
    "\n",
    "def score(hull, loc, sc, area, list_def_bin, \n",
    "          weight_x = 1000, weight_y = 100, \n",
    "          weight_area = 4, weight_size_hull = 100, \n",
    "          weight_nb_defects = 10, weight_random = 10):\n",
    "    (x, y) = loc\n",
    "    (n, scev, nb_new_defects) = score_etoile_verte(hull, (x, y), sc, list_def_bin)\n",
    "\n",
    "    return scev + weight_x*x - weight_y*y - weight_area*area\\\n",
    "            + weight_size_hull*n - weight_nb_defects*nb_new_defects\\\n",
    "            + weight_random*random()\\\n",
    "            - λ*max(0, y - 2900)\\\n",
    "            + μ*max(0, x - 6700)\\"
   ]
  },
  {
   "cell_type": "markdown",
   "metadata": {},
   "source": [
    "## LE glouton"
   ]
  },
  {
   "cell_type": "code",
   "execution_count": null,
   "metadata": {},
   "outputs": [],
   "source": [
    "def glouton_aleatoire(stacks, list_def, params):\n",
    "   \n",
    "    for s in stacks:\n",
    "        s.reset()\n",
    "    (x, y) = (-1, -1)\n",
    "    items_cut = [[] for x in range(100)] # liste d'items par bin (k, x, y, rotated)\n",
    "    sequence = []\n",
    "    trees = [[] for x in range(100)]\n",
    "    hulls = [[] for x in range(100)]\n",
    "\n",
    "    n = sum([s.n for s in stacks])\n",
    "\n",
    "    # stacks_available = LISTE des stacks non vide (car on veut tous les parcourir)\n",
    "    for s in stacks:\n",
    "        s.reset()\n",
    "        \n",
    "    stacks_available = [i for i in range(len(stacks)) if not stacks[i].is_empty()]\n",
    "    bin_id = 0\n",
    "    k = 0\n",
    "    max_score = np.inf\n",
    "    # Tant que des items sont à placer\n",
    "    previous_score = 0\n",
    "    iter = 0\n",
    "    while len(stacks_available) > 0 and iter < 5000000:\n",
    "        best_score = max_score\n",
    "        best = (-1, x, y, False) # (i_stack, (x, y), rotated) (aucun sens si best_score môvais)\n",
    "        # On regarde tous les items disponibles\n",
    "        for s in stacks_available:\n",
    "            item = stacks[s].top()\n",
    "\n",
    "            (w, h) = width_height_mat(item, False, batch_mat)\n",
    "            locations = locations_etoile_verte_and_free_of_defects(bin_id, hulls[bin_id], item, batch_mat,\n",
    "                                                    widthPlates, heightPlates, list_def)\n",
    "            if item == 44 and len(sequence) > 0 and sequence[-1] == 11:\n",
    "                print(sequence[-1], locations)\n",
    "                pass\n",
    "            for rotated in (False, True):\n",
    "                for (x, y) in locations[rotated]:\n",
    "                    try:\n",
    "                        node = [0, 0, widthPlates, heightPlates, 0, [], -2]\n",
    "                        iter += 1\n",
    "                        gen_tree(node, items_cut[bin_id] + [(item, x, y, rotated)])\n",
    "                        current_score = max_score\n",
    "                        if rotated:\n",
    "                            current_score = score(hulls[bin_id], \n",
    "                                                  (x + h, y + w),\n",
    "                                                  previous_score, h*w, \n",
    "                                                  list_def[bin_id], *params)\n",
    "                        else:\n",
    "                            current_score = score(hulls[bin_id],\n",
    "                                                  (x + w, y + h), \n",
    "                                                  previous_score, h*w,\n",
    "                                                  list_def[bin_id], *params)\n",
    "                    \n",
    "                        if current_score <= best_score:\n",
    "                            best_score = current_score\n",
    "                            best = (s, x, y, rotated)\n",
    "                        \n",
    "                            #print(best)\n",
    "\n",
    "                    except Exception as error:\n",
    "                        #print(bin_id, item, x, y, w, h, rotated)\n",
    "                        #if item == 44:\n",
    "                        #    print(error)\n",
    "                        pass\n",
    "        # Soit aucun item ne tient et alors on passe sur une nouvelle bin\n",
    "        if best_score == np.inf:\n",
    "            bin_id += 1\n",
    "            if bin_id >= 100:\n",
    "                break\n",
    "        # Soit il y en a un et alors on le place, on met à jour l'étoile verte etc.\n",
    "        else:\n",
    "            previous_score += best_score\n",
    "            (s, x, y, rotated) = best\n",
    "            item = stacks[s].pop()\n",
    "            if stacks[s].is_empty():\n",
    "                del stacks_available[stacks_available.index(s)]\n",
    "\n",
    "            (w, h) = width_height_mat(item, False, batch_mat)\n",
    "            if rotated:\n",
    "                incr_etoile_verte(hulls[bin_id], (x + h, y + w))\n",
    "            else:\n",
    "                incr_etoile_verte(hulls[bin_id], (x + w, y + h))\n",
    "            sequence.append(item)\n",
    "            items_cut[bin_id].append((item, x, y, rotated))\n",
    "\n",
    "            node = [0, 0, widthPlates, heightPlates, 0, [], -2]\n",
    "            \n",
    "    return (items_cut, trees)"
   ]
  },
  {
   "cell_type": "markdown",
   "metadata": {},
   "source": [
    "La fonction de score utilisée permet d'obtenir de très bons (d'excellents !) résultats avec un taux d'utilisation maximal et moyen atteint de $74\\%$ pour l'instance `A8`. Toutefois, on remarque que cela dépend très fortement des paramètres utilisés dans la fonction de score (λ, β, δ, γ, α…) et que de plus le résultat **dépend fortement de la plaque**. \n",
    "\n",
    "On pourrait ainsi imaginer d'optimiser ces paramètres sur chaque plaque. En effet, une optimisation sur chaque plaque devrait être *à peu près* équivalent à une optimisation globale étant donné la contrainte d'ordre."
   ]
  },
  {
   "cell_type": "code",
   "execution_count": null,
   "metadata": {
    "scrolled": false
   },
   "outputs": [],
   "source": [
    "name = \"A0\"\n",
    "\n",
    "best_score = 10000000000000\n",
    "(defects, batch, batch_mat, stacks, list_def) = load_complete_instance(name)\n",
    "best_ẗems = None\n",
    "\n",
    "# dans l'ordre weight_x, weight_y, weight_area, weight_size_hull, weight_nb_defects, weight_random\n",
    "# de bons paramètres [1000, 10, 2, 900000,0, 0] params = [1000, 10, 2, 900000, 200000, 0]\n",
    "# params = [1000, 10, 2, 900000, 200000, 0]\n",
    "# params = [1000, 10,2.2,900000, 200000, 0]\n",
    "params = [1000, 10,2.2,900000, 200000, 0]\n",
    "#params = [1000, 100, 9, 90, 2500, 0]\n",
    "μ = 5\n",
    "000\n",
    "λ = 1000\n",
    "for k in range(1):\n",
    "    (items_cut, trees) = glouton_aleatoire(stacks, list_def, params)\n",
    "    sc = cost_roadef(items_cut)\n",
    "    if sc <= best_score:\n",
    "        print(sc)\n",
    "        best_score = sc\n",
    "        best_items = items_cut\n",
    "        \n",
    "for i in range(sum([1 for i in range(len(items_cut)) if len(items_cut[i]) > 0])):\n",
    "        node = [0, 0, widthPlates, heightPlates, 0, [], -2]\n",
    "        trees[i] = gen_tree(node, items_cut[i])\n",
    "        \n",
    "def to_residual(node):\n",
    "    if len(node[5]) == 0:\n",
    "        node[6] = -3\n",
    "    else:\n",
    "        to_residual(node[5][-1])\n",
    "\n",
    "def make_residual_trees(trees):\n",
    "    n = sum([len(tree) for tree in trees])//7\n",
    "    to_residual(trees[n - 1])\n",
    "make_residual_trees(trees)\n",
    "\n",
    "\n",
    "trees_to_file(name, trees)\n",
    "trees_to_file(name + \"_\" + str(cost_roadef(items_cut)), trees)\n",
    "draw_trees(trees)"
   ]
  },
  {
   "cell_type": "code",
   "execution_count": null,
   "metadata": {},
   "outputs": [],
   "source": [
    "print(batch_mat[44, :])\n",
    "print(batch_mat[112, :])"
   ]
  },
  {
   "cell_type": "code",
   "execution_count": null,
   "metadata": {},
   "outputs": [],
   "source": [
    "items_cut[5]"
   ]
  },
  {
   "cell_type": "code",
   "execution_count": null,
   "metadata": {},
   "outputs": [],
   "source": [
    "X.insert(4, (44, 1662, 2095, True))"
   ]
  },
  {
   "cell_type": "code",
   "execution_count": null,
   "metadata": {},
   "outputs": [],
   "source": [
    "t = gen_tree([0, 0, widthPlates, heightPlates, 0, [], -2], X)\n",
    "draw_tree(t, 1)\n",
    "plt.show()"
   ]
  },
  {
   "cell_type": "markdown",
   "metadata": {},
   "source": [
    "\n",
    "## Optimisation sur un jumbo"
   ]
  },
  {
   "cell_type": "code",
   "execution_count": null,
   "metadata": {},
   "outputs": [],
   "source": [
    "def optim_un_jumbo(states, max_iter, bin_id, list_def_bin):\n",
    "\n",
    "    node = [0, 0, widthPlates, heightPlates, 0, [], -2]\n",
    "    items_cut_bin = [] # liste d'items par bin (k, x, y, rotated)\n",
    "    sequence = []\n",
    "    trees = []\n",
    "    hull = []\n",
    "\n",
    "\n",
    "    # boucle de recherche locale, on ne garde que le meilleur résultat\n",
    "    params = [1000, 8, 2.2,900000, 200000, 0]\n",
    "    currents_params = params\n",
    "    # dans l'ordre weight_x, weight_y, weight_area, weight_size_hull, weight_nb_defects, weight_random\n",
    "    Δx = [1, 1, 1, 1000, 1000, 1]\n",
    "\n",
    "    # Distribution de probabilité (à normaliser pour obtenir la distribution)\n",
    "    π = np.array([50, 2, 2, 2, 1, 0.3])\n",
    "    π /= sum(π)\n",
    "\n",
    "\n",
    "    best_cost = np.inf\n",
    "    (best_items_cut_bin, best_tree) = ([], [])\n",
    "\n",
    "    current_iter = 0\n",
    "\n",
    "    while current_iter < max_iter:\n",
    "\n",
    "        # RECHERCHE LOCALE SUR LES PARAMÈTRES DE LA FONCTION DE SCORE\n",
    "        p = randint(0, len(params) - 1)\n",
    "        currents_params[p] += (2*(random() < 0.5) - 1)*Δx[p]   \n",
    "        #print(params, currents_params, p)\n",
    "\n",
    "        # On réinitialise les stacks\n",
    "        for k in range(len(stacks)):\n",
    "            stacks[k].reset(begin = states[k])\n",
    "\n",
    "        stacks_available = [i for i in range(len(stacks)) if not stacks[i].is_empty()]\n",
    "\n",
    "        uncomplete = True # vaut Faux dès qu'il n'y a plus de place sur le bin courant\n",
    "        k = 0\n",
    "        max_score = np.inf\n",
    "        # Tant que des items sont à placer    \n",
    "        # On tente de placer les items\n",
    "        previous_score = 0\n",
    "        sub_iter = 0\n",
    "        while len(stacks_available) > 0 and uncomplete and sub_iter < 50000:\n",
    "\n",
    "            best_score = max_score\n",
    "            best = (-1, 0, 0, False) # (i_stack, (x, y), rotated) (aucun sens si best_score môvais)\n",
    "            # On regarde tous les items disponibles\n",
    "            for s in stacks_available:\n",
    "                item = stacks[s].top()\n",
    "\n",
    "                (w, h) = width_height_mat(item, False, batch_mat)\n",
    "                locations = locations_etoile_verte_and_free_of_defects(bin_id, hull, item, batch_mat,\n",
    "                                                        widthPlates, heightPlates, list_def)\n",
    "                for rotated in (False, True):\n",
    "                    for (x, y) in locations[rotated]:\n",
    "                        try:\n",
    "                            node = [0, 0, widthPlates, heightPlates, 0, [], -2]\n",
    "                            sub_iter += 1\n",
    "                            tree = gen_tree(node, items_cut_bin + [(item, x, y, rotated)])\n",
    "                            current_score = max_score\n",
    "                            if rotated:\n",
    "                                current_score = score(hull, \n",
    "                                                      (x + h, y + w),\n",
    "                                                      previous_score, h*w, \n",
    "                                                      list_def_bin, *currents_params)\n",
    "                            else:\n",
    "                                current_score = score(hull,\n",
    "                                                      (x + w, y + h), \n",
    "                                                      previous_score, h*w,\n",
    "                                                      list_def_bin, *currents_params)\n",
    "                            #print(current_score)\n",
    "                            if current_score <= best_score:\n",
    "                                best_score = current_score\n",
    "                                best = (s, x, y, rotated)\n",
    "\n",
    "                                #print(best)\n",
    "\n",
    "                        except Exception as error:\n",
    "                            #print(bin_id, item, x, y, w, h, rotated)\n",
    "                            #print(error)\n",
    "                            pass\n",
    "            # Soit aucun item ne tient et alors on passe sur une nouvelle bin\n",
    "            if best_score == np.inf:\n",
    "                uncomplete = False\n",
    "            # Soit il y en a un et alors on le place, on met à jour l'étoile verte etc.\n",
    "            else:\n",
    "                previous_score += best_score\n",
    "                (s, x, y, rotated) = best\n",
    "                item = stacks[s].pop()\n",
    "                if stacks[s].is_empty():\n",
    "                    del stacks_available[stacks_available.index(s)]\n",
    "\n",
    "                (w, h) = width_height_mat(item, False, batch_mat)\n",
    "                if rotated:\n",
    "                    incr_etoile_verte(hull, (x + h, y + w))\n",
    "                else:\n",
    "                    incr_etoile_verte(hull, (x + w, y + h))\n",
    "                sequence.append(item)\n",
    "                items_cut_bin.append((item, x, y, rotated))\n",
    "\n",
    "                node = [0, 0, widthPlates, heightPlates, 0, [], -2]\n",
    "\n",
    "        current_iter += 1\n",
    "        if len(stacks_available) > 0: # ce n'est pas la dernière bin\n",
    "            current_cost = widthPlates*heightPlates\n",
    "        else:\n",
    "            current_cost = heightPlates*max([item[1] + width_item(item[0], item[3], batch_mat) for item in items_cut_bin])\n",
    "\n",
    "        current_cost -= sum([width_item(int(it[0]), True, batch_mat)*height_item(int(it[0]), True, batch_mat) for it in items_cut_bin])\n",
    "\n",
    "        #print(currents_params)\n",
    "        if current_cost < best_cost:\n",
    "            best_cost = current_cost\n",
    "            best_items_cut = items_cut\n",
    "            best_tree = tree\n",
    "            params = currents_params\n",
    "            rate = sum([width_item(int(it[0]), True, batch_mat)*height_item(int(it[0]), True, batch_mat) for it in items_cut_bin])/(sum([width_item(int(it[0]), True, batch_mat)*height_item(int(it[0]), True, batch_mat) for it in items_cut_bin]) + current_cost)\n",
    "            print(best_cost)\n",
    "            print(rate)\n",
    "    \n",
    "    return (best_cost, rate, params, best_items_cut_bin)"
   ]
  },
  {
   "cell_type": "code",
   "execution_count": null,
   "metadata": {},
   "outputs": [],
   "source": [
    "states = [s.begin for s in stacks]\n",
    "max_iter = 100\n",
    "bin_id = 0\n",
    "list_def_bin= list_def[bin_id]\n",
    "\n",
    "(best_cost, rate, best_params, best_items_cut_bin) = optim_un_jumbo(states, max_iter, bin_id, list_def_bin)"
   ]
  },
  {
   "cell_type": "markdown",
   "metadata": {},
   "source": [
    "Si on place les items totalement aléatoirement (partie aléatoire dominante dans la fonction de score), les taux obtenus sont très très môvais : le meilleur résultat atteint sur $100 000$ itérations, ce qui est très lent (plusieurs minutes de calcul) est seulement de $57\\%$. De plus, cette solution a été obtenue en très peu d'itérations (de l'ordre d'une centaine … !).\n",
    "\n",
    "On remarque également que :\n",
    "* soit le poids de la partie aléatoire est négligeable et alors la solution optimale est inchangée\n",
    "* soit elle est influe sur le résultat mais cette influence semble être toujours négative (soit une perte de l'ordre de 2%, soit de plus de 40% !\n",
    "\n",
    "Il faut donc chercher la solution ailleurs."
   ]
  },
  {
   "cell_type": "code",
   "execution_count": null,
   "metadata": {},
   "outputs": [],
   "source": [
    "draw_tree(gen_tree(node, items_cut_bin), 0)\n",
    "plt.show()"
   ]
  },
  {
   "cell_type": "code",
   "execution_count": null,
   "metadata": {},
   "outputs": [],
   "source": [
    "items_cut = [[] for x in range(100)] # liste d'items par bin (k, x, y, rotated)\n",
    "sequence = []\n",
    "trees = [[] for x in range(100)]\n",
    "hulls = [[] for x in range(100)]\n",
    "\n",
    "for s in stacks:\n",
    "    s.reset()\n",
    "\n",
    "stacks_available = [i for i in range(len(stacks)) if not stacks[i].is_empty()]\n",
    "\n",
    "while len(stacks_available) < 0:\n",
    "    \n",
    "states = [s.begin for s in stacks]\n",
    "max_iter = 100\n",
    "bin_id = 0\n",
    "list_def_bin= list_def[bin_id]\n",
    "\n",
    "(best_cost, rate, best_params, best_items_cut_bin) = optim_un_jumbo(states, max_iter, bin_id, list_def_bin)"
   ]
  },
  {
   "cell_type": "code",
   "execution_count": null,
   "metadata": {},
   "outputs": [],
   "source": [
    "batch_mat[119, :]"
   ]
  },
  {
   "cell_type": "code",
   "execution_count": null,
   "metadata": {},
   "outputs": [],
   "source": [
    "(batch_mat[40,:], batch_mat[20, :], batch_mat[21, :], batch_mat[119, :])"
   ]
  },
  {
   "cell_type": "code",
   "execution_count": null,
   "metadata": {},
   "outputs": [],
   "source": [
    "1321 + 826 + 1134 + 350"
   ]
  },
  {
   "cell_type": "markdown",
   "metadata": {},
   "source": [
    "# Résolution d'un problème relâché\n",
    "On relâche de nombreuses contraintes :\n",
    "* La contrainte d'ordre : tous les items peuvent être placés dans n'importe quel ordre\n",
    "* La contrainte de guillotine cut : les coupes peuvent être plus collées \n",
    "* La gestion des défauts\n",
    "\n",
    "?? Je ne suis pas sûr de la pertinence"
   ]
  },
  {
   "cell_type": "markdown",
   "metadata": {},
   "source": [
    "# Résolution exhaustive\n",
    "\n",
    "La fonction glouton aléatoire n'optimise que sur un seul triplet (pièce, emplacement, rotation) et fournit déjà de bons résultats. Toutefois, des *trous* subsistent, dans lesquels il serait intéressant de mettre des pièces.\n",
    "\n",
    "Afin de limiter ces trous, l'idée serait de réaliser une recherche exhaustive sur l'arbre des solutions, constitué des triplets (pièce, emplacement, rotation). Malheureusement, cela semble impossible combinatoirement, notamment parce que je ne pense pas disposer (surtout maintenant) facilement de bonnes bornes afin de réaliser un algorithme de *branch and bound*.\n",
    "\n",
    "Par contre,je ne pense pas qu'il soit nécessaire de descendre trop profondemment dans l'arbre : une profondeur de 2 ou 3 devait être suffisante pour d'une part obtenir de bons résultats, et d'autre part conserver une complexité réduite (la complexité demeure polynomiale, de degré la profondeur étudiée).\n",
    "\n",
    "Algorithmiquement, il s'agit de construire une fonction récursive pour réaliser cette recherche exhaustive, pour une profondeur donnée."
   ]
  },
  {
   "cell_type": "markdown",
   "metadata": {},
   "source": [
    "L'algorithme en pseudo-code, actuellement utilisé dans la fonction `glouton aléatoire` (qui porte très mal son nom).\n",
    "\n",
    ">```\n",
    "Pour chaque stack disponible\n",
    "    Calculer les emplacements disponibles\n",
    "        Pour chaque rotation \n",
    "            Essayer de construire un arbre\n",
    "            Si c'est possible, calculer le score\n",
    "            Sinon, mettre le score à inf\n",
    "Renvoyer le meilleur triplet (pièce, emplacement, rotation)\n",
    "```\n",
    "\n",
    "L'algorithme, en pseudo code, pour faire une recherche exhaustive, sans optimisation\n",
    "\n",
    "```\n",
    "function score_recursif(stacks, stacks_available, hull, items_cuts, profondeur):\n",
    "    Initialiser meilleur_score à inf\n",
    "    Initialiser meilleur_triplet\n",
    "    \n",
    "    Si des triplets sont disponibles ou si la profondeur maximale n'est pas atteinte\n",
    "        Pour chaque triplet (pièce, emplacement, rotation) possible    \n",
    "            Rajouter à items cut le triplet courant\n",
    "            Mettre à jour stacks_available\n",
    "            Mettre à jour hull\n",
    "            Calculer le score de score_recursif(stacks, stacs_available, hull, items_cuts, profondeur)\n",
    "            Si ce score est inférieur à meilleur score\n",
    "                Mettre à jour meilleur_score et meilleur_triplet                \n",
    "            Réinitialiser hull, stacks_available, items_cut\n",
    "       \n",
    "       Rajouter à items_cut le meilleur triplet et mettre à jour hull et stacks_available\n",
    "       Renvoyer les meilleures solutions actuelles (triplet et score)\n",
    "    Sinon\n",
    "        Calculer et renvoyer le score de la solution courante ainsi que le triplet vide\n",
    "```"
   ]
  },
  {
   "cell_type": "markdown",
   "metadata": {},
   "source": [
    "La fonction ci-dessous calcule un **score courant** qui correspond, en gros, au taux d'occupation (= le score de la ROADEF), la difficulté étant de déterminer ce qui est réellement perdu : est-ce que tout ce qui est avantle $x_\\text{max}$ est perdu ? Pas vraiment quand même (et heureusement !)."
   ]
  },
  {
   "cell_type": "markdown",
   "metadata": {},
   "source": [
    "Grosse difficulté liée à l'usage de **Python** : comment gérer les modifications en place des objets et des listes (notamment des stacks) qui imposent de retirer les éléments rajoutés (ou de faire des copies)."
   ]
  },
  {
   "cell_type": "code",
   "execution_count": null,
   "metadata": {},
   "outputs": [],
   "source": [
    "from copy import copy"
   ]
  },
  {
   "cell_type": "markdown",
   "metadata": {},
   "source": [
    "Cette fonction enlève un élément du stack d'index `s` et retire l'index s de la liste `stacks_available` si la liste est alors vidée. "
   ]
  },
  {
   "cell_type": "code",
   "execution_count": null,
   "metadata": {},
   "outputs": [],
   "source": [
    "def remove_stacks_available(stacks, stacks_available, s):\n",
    "    item = stacks[s].pop()\n",
    "    if stacks[s].is_empty():\n",
    "        del stacks_available[stacks_available.index(s)]\n",
    "    return item"
   ]
  },
  {
   "cell_type": "code",
   "execution_count": null,
   "metadata": {},
   "outputs": [],
   "source": [
    "def add_stacks_available(stacks, stacks_available, s):\n",
    "    if stacks[s].is_empty():\n",
    "        stacks_available.append(s)\n",
    "    stacks[s].push()"
   ]
  },
  {
   "cell_type": "markdown",
   "metadata": {},
   "source": [
    "Le score n'est pas encore fait, il est directement celui de la ROADEF là. On veut réaliser plusieurs choses avec ce score"
   ]
  },
  {
   "cell_type": "code",
   "execution_count": null,
   "metadata": {},
   "outputs": [],
   "source": [
    "weight_x = 1000\n",
    "weight_area = 3\n",
    "weight_hull = 9000000\n",
    "weight_defects = 200000\n",
    "\n",
    "def score_depth_search(items_cuts_bin, end, hull, list_def_bin):\n",
    "    \"\"\"\n",
    "    On souhaite le minimiser \n",
    "    \"\"\"\n",
    "    #print(items_cuts_bin)\n",
    "    if len(items_cuts_bin) == 0:\n",
    "        return 0\n",
    "    \n",
    "    # surface occupée\n",
    "    s = sum([width_item(int(it[032.]), True, batch_mat)*height_item(int(it[0]), True, batch_mat) for it in items_cuts_bin])\n",
    "    \n",
    "    # le plus grand x\n",
    "    xmax = max([item[1] + width_item(item[0], item[3], batch_mat) for item in items_cuts_bin])\n",
    "    \n",
    "    # l'aire de l'etoile verte\n",
    "    area = area_etoile_verte(hull)\n",
    "    \n",
    "    # la taille de l'étoile verte\n",
    "    size_hull = len(hull)\n",
    "    \n",
    "    # le nombre de défauts dans l'étoile verte \n",
    "    nb_defects = nb_defects_in_etoile_verte(list_def_bin, hull)\n",
    "    #print(weight_x*xmax - weight_area*s + weight_hull*size_hull - weight_defects*nb_defects)\n",
    "    return weight_x*xmax - weight_area*s + weight_hull*size_hull - weight_defects*nb_defects \n",
    "    "
   ]
  },
  {
   "cell_type": "code",
   "execution_count": null,
   "metadata": {},
   "outputs": [],
   "source": [
    "score_depth_search(items_cut[0], True, [], list_def[0])"
   ]
  },
  {
   "cell_type": "code",
   "execution_count": null,
   "metadata": {},
   "outputs": [],
   "source": [
    "stacks_available = [k for k in range(len(stacks)) if not stacks[k].is_empty()]"
   ]
  },
  {
   "cell_type": "code",
   "execution_count": null,
   "metadata": {},
   "outputs": [],
   "source": [
    "for s in stacks:\n",
    "    s.reset()"
   ]
  },
  {
   "cell_type": "code",
   "execution_count": null,
   "metadata": {},
   "outputs": [],
   "source": [
    "def depth_search(stacks, stacks_available, hull_bin, items_cuts_bin, current_depth,\n",
    "                bin_id, widthPlates, heightPlates, verbose = False):\n",
    "    \"\"\"\n",
    "    * items_cuts_bin = la liste courante des items (de même pour hull)\n",
    "    * items_cuts = la liste des items PLACÉS\n",
    "    \"\"\"\n",
    "    it = [(0, 0, 0, False),(1, 0, 1578, True),(2, 758, 0, True),(3, 758, 276, True),(4, 758, 1672, False)]\n",
    "    #print(\"HHHH\")\n",
    "    #print(hull_bin)\n",
    "    # Aucun triplet n'est disponible ou la profondeur maximale a été atteinte\n",
    "    if current_depth == 0 or len(stacks_available) == 0:\n",
    "        #print(score_depth_search(items_cuts_bin, True, hull_bin, list_def[bin_id]))\n",
    "        return ([], score_depth_search(items_cuts_bin, True, hull_bin, list_def[bin_id])) # on peut partir là dessus…\n",
    "    \n",
    "    best_score = np.inf\n",
    "    best = []\n",
    "    # La recherche continue\n",
    "    for s in stacks_available:\n",
    "        item = stacks[s].top()\n",
    "        \n",
    "        # On enlève l'élément du stack s et on met à jour (éventuellement) stacks_available\n",
    "        remove_stacks_available(stacks, stacks_available, s)\n",
    "        \n",
    "        (w, h) = width_height_mat(item, False, batch_mat)\n",
    "        locations = locations_etoile_verte_and_free_of_defects(bin_id, hull_bin, item, batch_mat,\n",
    "                                                               widthPlates, heightPlates, list_def)\n",
    "        #print(\"HKX\")\n",
    "        #print(hull_bin)\n",
    "        if len(items_cuts_bin) > 0 and items_cuts_bin[-1] == (3, 758, 276, True):\n",
    "            print(\"a\")\n",
    "            print(items_cuts_bin, hull_bin, locations)\n",
    "        for rotated in (False, True):\n",
    "            for (x, y) in locations[rotated]:\n",
    "                \n",
    "                try:\n",
    "                    if (item, x, y, rotated) == (4, 738, 1672, False):\n",
    "                        print(items_cuts_bin + [(item, x, y, rotated)])\n",
    "                        print(\"OOOo\")\n",
    "                    tree = gen_tree([0, 0, widthPlates, heightPlates, 0, [], -2], items_cuts_bin + [(item, x, y, rotated)])\n",
    "\n",
    "                    if (item, x, y, rotated) == (4, 738, 1672, False):\n",
    "                        print(items_cuts_bin + [(item, x, y, rotated)])\n",
    "                        \n",
    "                    #print(\"-------\")\n",
    "                    #print(items_cuts_bin)\n",
    "                    #print(\"*****\")\n",
    "                    #print(hull_bin, incr_etoile_verte_copy(hull_bin, x, y, w, h, rotated))\n",
    "                    #print(\"-------\")\n",
    "                    (current_cut, current_score) = depth_search(stacks, stacks_available, \n",
    "                                                 incr_etoile_verte_copy(hull_bin, x, y, w, h, rotated),\n",
    "                                                 items_cuts_bin + [(item, x, y, rotated)],\n",
    "                                                 current_depth - 1,\n",
    "                                                 bin_id, widthPlates, heightPlates, verbose = False)\n",
    "                    \n",
    "                    if current_score <= best_score:\n",
    "                        best_score = current_score\n",
    "                        best = [(s, x, y, rotated)] + current_cut\n",
    "                                                \n",
    "                except Exception as error:\n",
    "                    if verbose:\n",
    "                        print((s, x, y, rotated), error)\n",
    "                        \n",
    "        # On remet l'élément dans le stack s             \n",
    "        add_stacks_available(stacks, stacks_available, s)\n",
    "        \n",
    "    # Si aucun emplacement triplet ne tient sur le jumbo\n",
    "    if best_score == np.inf:\n",
    "        if bin_id >= 100:\n",
    "            return ([], -1) # Il n'y a pas assez de jumbos pour résoudre l'instance\n",
    "        return (best, best_score)\n",
    "    \n",
    "    # Il y a au moins un emplacement valide\n",
    "        \n",
    "    # On rajoute l'élément\n",
    "    #print(best_score, best)\n",
    "    #print(items_cuts_bin)\n",
    "    return (best, best_score)\n",
    "\n",
    "    "
   ]
  },
  {
   "cell_type": "code",
   "execution_count": 115,
   "metadata": {},
   "outputs": [
    {
     "ename": "NameError",
     "evalue": "name 'depth_search' is not defined",
     "output_type": "error",
     "traceback": [
      "\u001b[0;31m---------------------------------------------------------------------------\u001b[0m",
      "\u001b[0;31mNameError\u001b[0m                                 Traceback (most recent call last)",
      "\u001b[0;32m<ipython-input-115-0919894a4b3f>\u001b[0m in \u001b[0;36m<module>\u001b[0;34m()\u001b[0m\n\u001b[1;32m     18\u001b[0m \u001b[0mweight_defects\u001b[0m \u001b[0;34m=\u001b[0m \u001b[0;36m0\u001b[0m\u001b[0;31m#2000\u001b[0m\u001b[0;34m\u001b[0m\u001b[0m\n\u001b[1;32m     19\u001b[0m \u001b[0;32mwhile\u001b[0m \u001b[0mlen\u001b[0m\u001b[0;34m(\u001b[0m\u001b[0mstacks_available\u001b[0m\u001b[0;34m)\u001b[0m \u001b[0;34m>\u001b[0m \u001b[0;36m0\u001b[0m \u001b[0;32mand\u001b[0m \u001b[0mcurrent_iter\u001b[0m \u001b[0;34m<\u001b[0m \u001b[0mmax_iter\u001b[0m\u001b[0;34m:\u001b[0m\u001b[0;34m\u001b[0m\u001b[0m\n\u001b[0;32m---> 20\u001b[0;31m     (stacks_cut, score) = depth_search(stacks, stacks_available, hulls[bin_id], \n\u001b[0m\u001b[1;32m     21\u001b[0m                                        items_cut[bin_id], max_depth, bin_id, widthPlates, heightPlates)\n\u001b[1;32m     22\u001b[0m     \u001b[0;31m#print(\"=========\")\u001b[0m\u001b[0;34m\u001b[0m\u001b[0;34m\u001b[0m\u001b[0m\n",
      "\u001b[0;31mNameError\u001b[0m: name 'depth_search' is not defined"
     ]
    }
   ],
   "source": [
    "name = \"A1\"\n",
    "\n",
    "(defects, batch, batch_mat, stacks, list_def) = load_complete_instance(name)\n",
    "    \n",
    "max_depth = 20\n",
    "stacks_available = [k for k in range(len(stacks)) if not stacks[k].is_empty()]\n",
    "items_cut = [[] for x in range(100)] # liste d'items par bin (k, x, y, rotated)\n",
    "sequence = []\n",
    "trees = [[] for x in range(100)]\n",
    "hulls = [[] for x in range(100)]\n",
    "bin_id = 0\n",
    "\n",
    "max_iter = 300000\n",
    "current_iter = 0\n",
    "weight_x = 80000000#8000\n",
    "weight_area = 0#4\n",
    "weight_hull = 0#1000000\n",
    "weight_defects = 0#2000\n",
    "while len(stacks_available) > 0 and current_iter < max_iter:\n",
    "    (stacks_cut, score) = depth_search(stacks, stacks_available, hulls[bin_id], \n",
    "                                       items_cut[bin_id], max_depth, bin_id, widthPlates, heightPlates)\n",
    "    #print(\"=========\")\n",
    "    #print(hulls[bin_id])\n",
    "    #print(\"=========\")\n",
    "    if len(stacks_cut) == 0:\n",
    "        bin_id += 1\n",
    "        continue\n",
    "\n",
    "    (s, x, y, rotated)= stacks_cut[0]\n",
    "    item = remove_stacks_available(stacks, stacks_available, s)\n",
    "    (w, h) = width_height_mat(item, rotated, batch_mat)\n",
    "    incr_etoile_verte(hulls[bin_id], (x + w, y + h))\n",
    "    items_cut[bin_id].append((item, x, y, rotated))\n",
    "    if current_iter % 30 == 0:\n",
    "        #print(current_iter)\n",
    "        pass\n",
    "    current_iter += 1\n",
    "\n",
    "trees = [gen_tree([0, 0, widthPlates, heightPlates, 0, [], -2], it) for it in items_cut if len(it) > 0]\n",
    "print(cost_roadef(items_cut))\n",
    "draw_trees(trees)\n",
    "\n",
    "make_residual_trees(trees)\n",
    "\n",
    "\n",
    "trees_to_file(name, trees)\n",
    "trees_to_file(name + \"_\" + str(cost_roadef(items_cut)), trees)"
   ]
  },
  {
   "cell_type": "code",
   "execution_count": 118,
   "metadata": {},
   "outputs": [
    {
     "data": {
      "text/plain": [
       "array([[   0, 1578,  758,    0,    1],\n",
       "       [   1,  738, 1550,    0,    2],\n",
       "       [   2,  581,  276,    0,    3],\n",
       "       [   3,  781, 1396,    0,    4],\n",
       "       [   4, 1426,  648,    0,    5]])"
      ]
     },
     "execution_count": 118,
     "metadata": {},
     "output_type": "execute_result"
    }
   ],
   "source": [
    "batch_mat"
   ]
  },
  {
   "cell_type": "code",
   "execution_count": null,
   "metadata": {},
   "outputs": [],
   "source": [
    "it"
   ]
  },
  {
   "cell_type": "code",
   "execution_count": 117,
   "metadata": {},
   "outputs": [
    {
     "data": {
      "image/png": "[encoded data removed]",
      "text/plain": [
       "<matplotlib.figure.Figure at 0x7f4715f51c18>"
      ]
     },
     "metadata": {},
     "output_type": "display_data"
    }
   ],
   "source": [
    "it = [(0, 0, 0, False), (1, 0, 1578, True), (2, 758, 0, True), (3, 758, 276, True), (4, 758, 276+1396, False)]\n",
    "t = gen_tree([0, 0, widthPlates, heightPlates, 0, [], -2], it)\n",
    "draw_tree(t, 0)\n",
    "plt.show()"
   ]
  },
  {
   "cell_type": "code",
   "execution_count": null,
   "metadata": {},
   "outputs": [],
   "source": [
    "cost_roadef([it])"
   ]
  },
  {
   "cell_type": "code",
   "execution_count": null,
   "metadata": {},
   "outputs": [],
   "source": [
    "draw_trees(trees)"
   ]
  },
  {
   "cell_type": "code",
   "execution_count": null,
   "metadata": {},
   "outputs": [],
   "source": [
    "t = gen_tree([0, 0, widthPlates, heightPlates, 0, [], -2], items_cut[0])"
   ]
  },
  {
   "cell_type": "code",
   "execution_count": null,
   "metadata": {},
   "outputs": [],
   "source": [
    "draw_tree(t, 0)\n",
    "plt.show()"
   ]
  },
  {
   "cell_type": "code",
   "execution_count": null,
   "metadata": {},
   "outputs": [],
   "source": [
    "items_cut[1]"
   ]
  },
  {
   "cell_type": "markdown",
   "metadata": {},
   "source": [
    "### Petits tests pour  le *monstre rouge*\n",
    "\n",
    "Un *point* du *monstre rouge* est défini par ses coordonnées ainsi que les deux valeurs des pièces, en dessous ou au-dessus.\n",
    "> `point = (x, y, b, g)`\n",
    "\n",
    "**Attention complexité : il peut être plus intéressant de considérer des listes / objets mutables !**\n",
    "\n",
    "Schéma de `[[0, 2], [1]]`"
   ]
  },
  {
   "cell_type": "code",
   "execution_count": null,
   "metadata": {},
   "outputs": [],
   "source": [
    "class Monstre:\n",
    "    def __init__(self, x, y, i):\n",
    "        self.coord = (x, y)\n",
    "        self.item = i        \n",
    "    \n",
    "    def __leq__(self, b):\n",
    "        \"\"\"\n",
    "        Attention, relation d'ordre uniquement sur le monstre rouge mais pas générale\n",
    "        \"\"\"\n",
    "        return self.coord[0] < b.coord[1] or (self.coord[1] > b.coord[1])\n",
    "    \n",
    "    def __str__(self):\n",
    "        (x, y) = self.coord\n",
    "        return \"{} : ({}, {})\".format(self.item, x, y)\n",
    "    \n",
    "    def x(self):\n",
    "        return self.coord[0]\n",
    "    \n",
    "    def y(self):\n",
    "        return self.coord[1]\n",
    "        \n",
    "    def draw(self, img, r = 10):\n",
    "        (x, y) = self.coord\n",
    "        font = cv2.FONT_HERSHEY_SIMPLEX\n",
    "        img = cv2.rectangle(img, (0, 0), (int(x//r), int(y//r)), (0, 0, 255), -1)\n",
    "        img = cv2.putText(img, str(self.item), (int(x//r + 5), int(y//r + 5)), font, 1, (255, 255, 255), 2, cv2.LINE_AA)\n",
    "        \n",
    "        return img\n",
    "    \n",
    "    def add(self, monstre):\n",
    "        self.item = max(self.item, monstre.item)\n",
    "        self.coord = (max(self.x(), monstre.x()), max(self.y(), monstre.y()))"
   ]
  },
  {
   "cell_type": "code",
   "execution_count": null,
   "metadata": {},
   "outputs": [],
   "source": [
    "def show_monstre_rouge(monstres, r = 10):\n",
    "    img = np.zeros((heightPlates//r, widthPlates//r, 3), np.uint8)\n",
    "    for monstre in monstres:\n",
    "        monstre.draw(img, r)\n",
    "        \n",
    "    plt.imshow(img)\n",
    "    plt.show()"
   ]
  },
  {
   "cell_type": "code",
   "execution_count": null,
   "metadata": {},
   "outputs": [],
   "source": [
    "monstres = [Monstre(600, 1400, 1), Monstre(1200, 700, 0)]\n",
    "show_monstre_rouge(monstres)"
   ]
  },
  {
   "cell_type": "code",
   "execution_count": null,
   "metadata": {},
   "outputs": [],
   "source": [
    "\n",
    "def incr_monstre_rouge_step3(monstres, monstre):\n",
    "\n",
    "    (X, Y) = monstre.coord\n",
    "    k = 0\n",
    "    while k < len(monstres):\n",
    "        (x, y) = monstres[k].coord\n",
    "        \n",
    "        if x == X:\n",
    "            del monstres[k]\n",
    "            continue\n",
    "        \n",
    "        if x > X:\n",
    "            break\n",
    "\n",
    "        if y < Y:\n",
    "            del monstres[k]\n",
    "            continue\n",
    "\n",
    "        k += 1    \n",
    "\n",
    "    monstres.insert(k, monstre)\n",
    "    \n",
    "    return monstres"
   ]
  },
  {
   "cell_type": "code",
   "execution_count": null,
   "metadata": {},
   "outputs": [],
   "source": [
    "def incr_monstre_rouge(monstres, value_item, coords, dims):\n",
    "    (x0, y0) = coords\n",
    "    (w, h) = dims\n",
    "\n",
    "    k = 0\n",
    "    while k < len(monstres) - 1:\n",
    "\n",
    "        # Si le plus gros élément est à gauche (1, 0, 2)\n",
    "        if monstres[k].item > monstres[k + 1].item:\n",
    "            if x0 >= monstres[k + 1].x() and y0 <= monstres[k + 1].y():\n",
    "                monstres[k].add(monstres[k + 1])\n",
    "                del monstres[k + 1]\n",
    "\n",
    "        else:\n",
    "            if x0 <= monstres[k].x() and y0 >= monstres[k].y():\n",
    "                monstres[k].add(monstres[k])\n",
    "                del monstres[k + 1]\n",
    "\n",
    "\n",
    "        k += 1\n",
    "    monstre = Monstre(x0 + w, y0 + h, value_item)\n",
    "    monstres = incr_monstre_rouge_step3(monstres, monstre)\n",
    "   "
   ]
  },
  {
   "cell_type": "code",
   "execution_count": null,
   "metadata": {},
   "outputs": [],
   "source": [
    "# Tests pour l'instance A1\n",
    "monstres = []\n",
    "incr_monstre_rouge(monstres, 0, (0, 0), (758, 1578))\n",
    "print(\"Step 1 : \", [str(m) for m in monstres])\n",
    "\n",
    "incr_monstre_rouge(monstres, 1, (0, 1578), (738, 1550)) \n",
    "print(\"Step 2 : \", [str(m) for m in monstres])\n",
    "\n",
    "incr_monstre_rouge(monstres, 2, (758, 0), (581, 276))\n",
    "print(\"Step 3 : \", [str(m) for m in monstres])\n",
    "show_monstre_rouge(monstres)\n"
   ]
  },
  {
   "cell_type": "code",
   "execution_count": null,
   "metadata": {},
   "outputs": [],
   "source": [
    "show_monstre_rouge(monstres)"
   ]
  },
  {
   "cell_type": "code",
   "execution_count": null,
   "metadata": {},
   "outputs": [],
   "source": []
  }
 ],
 "metadata": {
  "kernelspec": {
   "display_name": "Python 3",
   "language": "python",
   "name": "python3"
  },
  "language_info": {
   "codemirror_mode": {
    "name": "ipython",
    "version": 3
   },
   "file_extension": ".py",
   "mimetype": "text/x-python",
   "name": "python",
   "nbconvert_exporter": "python",
   "pygments_lexer": "ipython3",
   "version": "3.5.2"
  }
 },
 "nbformat": 4,
 "nbformat_minor": 2
}
